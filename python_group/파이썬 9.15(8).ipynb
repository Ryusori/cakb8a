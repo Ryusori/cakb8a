{
 "cells": [
  {
   "cell_type": "code",
   "execution_count": 2,
   "id": "c1e0a62d-1953-4a06-915e-d1473495b375",
   "metadata": {},
   "outputs": [
    {
     "data": {
      "text/plain": [
       "['3개', '5개', '18개', '11개']"
      ]
     },
     "execution_count": 2,
     "metadata": {},
     "output_type": "execute_result"
    }
   ],
   "source": [
    "a = ['3', '5', '18', '11']\n",
    "def str_(a):\n",
    "    return a+\"개\"\n",
    "list(map(str_,a))"
   ]
  },
  {
   "cell_type": "code",
   "execution_count": 3,
   "id": "248cab8a-a9fb-4837-a675-bd06d7906e4e",
   "metadata": {},
   "outputs": [
    {
     "data": {
      "text/plain": [
       "time.struct_time(tm_year=2022, tm_mon=9, tm_mday=15, tm_hour=7, tm_min=55, tm_sec=0, tm_wday=3, tm_yday=258, tm_isdst=0)"
      ]
     },
     "execution_count": 3,
     "metadata": {},
     "output_type": "execute_result"
    }
   ],
   "source": [
    "import time\n",
    "time.localtime()"
   ]
  },
  {
   "cell_type": "code",
   "execution_count": 4,
   "id": "bc3e2775-15c1-47bf-bcff-25b3d51a3b91",
   "metadata": {},
   "outputs": [
    {
     "data": {
      "text/plain": [
       "'09/15/22'"
      ]
     },
     "execution_count": 4,
     "metadata": {},
     "output_type": "execute_result"
    }
   ],
   "source": [
    "time.strftime(\"%x\",time.localtime())"
   ]
  },
  {
   "cell_type": "code",
   "execution_count": 5,
   "id": "4197469f-d3f4-44c6-bf71-312b03aa7c4b",
   "metadata": {},
   "outputs": [
    {
     "data": {
      "text/plain": [
       "[5, 2, 1, 3, 4]"
      ]
     },
     "execution_count": 5,
     "metadata": {},
     "output_type": "execute_result"
    }
   ],
   "source": [
    "import random\n",
    "a=[1,2,3,4,5]\n",
    "random.shuffle(a)\n",
    "a"
   ]
  },
  {
   "cell_type": "code",
   "execution_count": 6,
   "id": "4dbb2b15-f7b1-402f-880f-e51822d1f055",
   "metadata": {},
   "outputs": [
    {
     "data": {
      "text/plain": [
       "[48, 46, 6, 1, 18, 14, 52, 11, 30]"
      ]
     },
     "execution_count": 6,
     "metadata": {},
     "output_type": "execute_result"
    }
   ],
   "source": [
    "li=[]\n",
    "for _ in range(10):\n",
    "    a= random.randint(1,55)\n",
    "    if a in li:\n",
    "        continue\n",
    "    li.append(a)\n",
    "li    "
   ]
  },
  {
   "cell_type": "markdown",
   "id": "4fd3657e-88f8-4881-b15c-9bede8353237",
   "metadata": {},
   "source": [
    "## 14일 복습 문제"
   ]
  },
  {
   "cell_type": "code",
   "execution_count": 8,
   "id": "3eb2086a-ef2f-4a8f-9966-40f9fde988a2",
   "metadata": {},
   "outputs": [
    {
     "data": {
      "text/plain": [
       "[5, 3, 1, 2, 4]"
      ]
     },
     "execution_count": 8,
     "metadata": {},
     "output_type": "execute_result"
    }
   ],
   "source": [
    "# 1. 무작위로 섞어서 [1,2,3,4,5]\n",
    "import random\n",
    "a=[1,2,3,4,5]\n",
    "random.shuffle(a)\n",
    "a"
   ]
  },
  {
   "cell_type": "code",
   "execution_count": 12,
   "id": "872b16ed-fd06-42ac-bf4c-101dc43f0b5f",
   "metadata": {},
   "outputs": [
    {
     "data": {
      "text/plain": [
       "[25, 30, 35, 40]"
      ]
     },
     "execution_count": 12,
     "metadata": {},
     "output_type": "execute_result"
    }
   ],
   "source": [
    "x=[5,6,7,8]\n",
    "list(map(lambda x : 5*x, a))"
   ]
  },
  {
   "cell_type": "code",
   "execution_count": 9,
   "id": "e42ba23b-73e0-42f7-8d63-32363987ba33",
   "metadata": {},
   "outputs": [
    {
     "name": "stdout",
     "output_type": "stream",
     "text": [
      "1\n",
      "2\n",
      "3\n",
      "4\n",
      "5\n",
      "6\n",
      "7\n",
      "8\n",
      "9\n"
     ]
    }
   ],
   "source": [
    "# while문 사용하여 1-9 반복 출력하시오\n",
    "\n",
    "i = 0\n",
    "while i< 9:\n",
    "    i += 1\n",
    "    print(i)"
   ]
  },
  {
   "cell_type": "code",
   "execution_count": 14,
   "id": "98e52539-0513-4efc-9c41-f3cd65934f90",
   "metadata": {},
   "outputs": [
    {
     "data": {
      "text/plain": [
       "[5, 10, 15, 20]"
      ]
     },
     "execution_count": 14,
     "metadata": {},
     "output_type": "execute_result"
    }
   ],
   "source": [
    "# for 문 이용하여 [5,10,15,20] 만들기\n",
    "\n",
    "a=[1,2,3,4]\n",
    "li=[]\n",
    "for i in a:\n",
    "    li.append(i*5)\n",
    "li    "
   ]
  },
  {
   "cell_type": "code",
   "execution_count": 15,
   "id": "355ff379-82ef-4baf-b723-793bf7e55c84",
   "metadata": {},
   "outputs": [
    {
     "data": {
      "text/plain": [
       "'i like apple And apple'"
      ]
     },
     "execution_count": 15,
     "metadata": {},
     "output_type": "execute_result"
    }
   ],
   "source": [
    "# a=\" l like apble And abple\" -> 'I like apble And abple'\n",
    "\n",
    "import re\n",
    "re.sub(\"b\",\"p\",'I like apble And abple')"
   ]
  },
  {
   "cell_type": "code",
   "execution_count": 32,
   "id": "25d249df-f3bd-473e-8e92-46c3b71e2011",
   "metadata": {},
   "outputs": [
    {
     "name": "stdout",
     "output_type": "stream",
     "text": [
      "010-1**-****\n",
      "010-1**-****\n",
      "010-2**-****\n",
      "010-3**-****\n",
      "010-4**-****\n",
      "010-5**-****\n",
      "010-6**-****\n",
      "010-7**-****\n",
      "010-8**-****\n",
      "010-9**-****\n"
     ]
    }
   ],
   "source": [
    "phone_number= ['010-123-1234', '010-111-1111', '010-222-2222', '010-333-3333', '010-444-4444', '010-555-5555', '010-666-6666', '010-777-7777', '010-888-8888', '010-999-9999']\n",
    "\n",
    "import re\n",
    "for string in phone_number:\n",
    "    print(re.sub(\"\\d{2}-\\d{4}\", \"**-****\", string)) "
   ]
  },
  {
   "cell_type": "code",
   "execution_count": 34,
   "id": "5c734cad-db69-4a0a-bdf6-398e0b0d1d4f",
   "metadata": {},
   "outputs": [
    {
     "name": "stdout",
     "output_type": "stream",
     "text": [
      "손흥민,  황의조,  A,  황희찬,  A,  "
     ]
    }
   ],
   "source": [
    "# 외자인 이름 \"A\"로 바꾸기\n",
    "# li = ['손흥민', '황의조', '이 호', '황희찬', '홍 철'] \n",
    "\n",
    "#(1)\n",
    "li = ['손흥민', '황의조', '이 호', '황희찬', '홍 철'] \n",
    "for i in li:\n",
    "    print(re.sub(\".[ ].\", \"A\", i), end = \",  \") "
   ]
  },
  {
   "cell_type": "code",
   "execution_count": 35,
   "id": "5511bdc1-ab29-479d-b05d-5b85d4c82f46",
   "metadata": {},
   "outputs": [
    {
     "name": "stdout",
     "output_type": "stream",
     "text": [
      "손흥민\n",
      "황의조\n",
      "A\n",
      "황희찬\n",
      "A\n"
     ]
    }
   ],
   "source": [
    "#(2)\n",
    "\n",
    "li = ['손흥민', '황의조', '이 호', '황희찬', '홍 철'] \n",
    "for i in li:\n",
    "    print(re.sub(\".\\s.\",\"A\",i)) "
   ]
  },
  {
   "cell_type": "code",
   "execution_count": 36,
   "id": "87ca1cd8-86e7-4677-bed0-ac5a6d286a2d",
   "metadata": {},
   "outputs": [
    {
     "name": "stdout",
     "output_type": "stream",
     "text": [
      "손흥민\n",
      "황의조\n",
      "A\n",
      "황희찬\n",
      "A\n"
     ]
    }
   ],
   "source": [
    "#(3)\n",
    "\n",
    "li = ['손흥민', '황의조', '이 호', '황희찬', '홍 철'] \n",
    "for i in li:\n",
    "    a = re.sub(\"\\w\\s\\w\",\"A\",i)\n",
    "    print(a) "
   ]
  },
  {
   "cell_type": "code",
   "execution_count": 37,
   "id": "22453419-9586-46fe-a575-b44950d911e0",
   "metadata": {},
   "outputs": [
    {
     "name": "stdout",
     "output_type": "stream",
     "text": [
      "['Vk', 'sSf', 'F7A', '1dz2dh', 'dK', '6277', '9wEE', 'b', '8xf', '4yl2fT', '44', 'Zbd65wY', 'F', 'rcbY', 'HqA', '92V2m', 'Y1Q1', 'boqOf', 'BlL', 'fYG']\n"
     ]
    }
   ],
   "source": [
    "# 20개의 문자열을 가진 리스트를 만드세요.\n",
    "#조건1. 각 문자열의 길이는 최대 10, 최소1 \n",
    "#조건2. 각각 33.3333퍼센트의 확률로 문자열 안의 문자는 \n",
    "#대문자(ascii code 65~90) 이거나    chr(65) -> 'A'\n",
    "#소문자(ascii code 97~ 122)이거나   chr(97) -> 'a'\n",
    "#숫자\n",
    "\n",
    "words = []\n",
    "for count in range(20):\n",
    "    word = ''\n",
    "    while len(word) < random.randint(1,10):\n",
    "        a = random.randint(1,3)    \n",
    "        if a == 1:\n",
    "            English = chr(random.randint(65,90))\n",
    "            word += English\n",
    "        elif a == 2:\n",
    "            english = chr(random.randint(97,122))\n",
    "            word += english\n",
    "        else:\n",
    "            number = str(random.randint(0,9))\n",
    "            word += number\n",
    "    words.append(word)\n",
    "    \n",
    "print(words) "
   ]
  },
  {
   "cell_type": "code",
   "execution_count": 39,
   "id": "86e95e7d-7671-4016-bdf4-cc7840f7466b",
   "metadata": {},
   "outputs": [
    {
     "data": {
      "text/plain": [
       "['7rg',\n",
       " 'l',\n",
       " 'EzAQN',\n",
       " 'oQa2X7tB',\n",
       " '5CZoA1Xy',\n",
       " 'VO',\n",
       " 'b3M54EJ',\n",
       " 'dFui87',\n",
       " 'ML',\n",
       " 'T',\n",
       " 'bK30C',\n",
       " '31UmFc',\n",
       " '7',\n",
       " '0kbpgJrgE',\n",
       " '0Q90',\n",
       " 'Vq517',\n",
       " 'VjJDX94ye7',\n",
       " 's6ouZ',\n",
       " '82G4w43z7',\n",
       " 'ZQ6rm8GOE']"
      ]
     },
     "execution_count": 39,
     "metadata": {},
     "output_type": "execute_result"
    }
   ],
   "source": [
    "import random\n",
    "words = []\n",
    "for count in range(20):\n",
    "    word = ''\n",
    "    length = random.randint(1,10)\n",
    "    while True:\n",
    "        prob = random.randint(1,3)\n",
    "        if prob == 1: word = word + chr(random.randint(65,90))\n",
    "        elif prob == 2: word = word + chr(random.randint(97,122))\n",
    "        else: word = word + str(random.randint(0,9))\n",
    "        if len(word) == length: break\n",
    "    words.append(word)\n",
    "words "
   ]
  },
  {
   "cell_type": "code",
   "execution_count": 40,
   "id": "700fa87e-dc73-460c-90ee-92fe154955f0",
   "metadata": {},
   "outputs": [
    {
     "data": {
      "text/plain": [
       "['3uNqp7',\n",
       " '751L4',\n",
       " '0kT',\n",
       " 'HFi',\n",
       " '0Ds',\n",
       " 'l',\n",
       " 'Y',\n",
       " 'v8',\n",
       " 'PNDNG',\n",
       " 'lPZ4',\n",
       " 'XzM',\n",
       " 'R56qy',\n",
       " 'asz',\n",
       " 'mUYA4',\n",
       " 'TN52x',\n",
       " 'UePR',\n",
       " 'q857A3',\n",
       " 'tfF4l',\n",
       " '33',\n",
       " 'gzmn']"
      ]
     },
     "execution_count": 40,
     "metadata": {},
     "output_type": "execute_result"
    }
   ],
   "source": [
    "words = []\n",
    "for count in range(20) :\n",
    "    word = \"\"\n",
    "    while len(word) < random.randint(1, 10) :\n",
    "        word += ''.join(random.choice(str(random.randint(0,9)) + chr(random.randint(65, 90))+chr(random.randint(97, 122))))\n",
    "    words.append(word)\n",
    "words"
   ]
  },
  {
   "cell_type": "code",
   "execution_count": 42,
   "id": "f5ee8c5b-935d-486e-914c-d9ea08b6df2a",
   "metadata": {},
   "outputs": [
    {
     "name": "stdout",
     "output_type": "stream",
     "text": [
      "Vk,  sSf,  F7A,  1dz2dh,  dK,  6277,  9wEE,  b,  8xf,  4yl2fT,  44,  Zbd65wY,  F,  rcbY,  HqA,  92V2m,  Y1Q1,  boqOf,  BlL,  #,  "
     ]
    }
   ],
   "source": [
    "# 앞글자 소문자 맨뒷글자 대문자\n",
    "\n",
    "li=['Vk', 'sSf', 'F7A', '1dz2dh', 'dK', '6277', '9wEE', 'b', '8xf', '4yl2fT', '44', 'Zbd65wY', 'F', 'rcbY', 'HqA', '92V2m', 'Y1Q1', 'boqOf', 'BlL', 'fYG']\n",
    "\n",
    "for string in li:\n",
    "    print(re.sub(\"^[a-z].+[A-Z]$\", \"#\", string), end = \",  \") "
   ]
  },
  {
   "cell_type": "code",
   "execution_count": 49,
   "id": "e5c68386-7872-4146-a3e5-2dece90b0863",
   "metadata": {},
   "outputs": [
    {
     "name": "stdout",
     "output_type": "stream",
     "text": [
      "Vk,  #,  #,  1dz2dh,  dK,  6277,  9wEE,  b,  8xf,  4yl2fT,  44,  #,  F,  #,  #,  92V2m,  Y1Q1,  #,  #,  #,  "
     ]
    }
   ],
   "source": [
    "#모든 글자 앞 뒤로\n",
    "\n",
    "li=['Vk', 'sSf', 'F7A', '1dz2dh', 'dK', '6277', '9wEE', 'b', '8xf', '4yl2fT', '44', 'Zbd65wY', 'F', 'rcbY', 'HqA', '92V2m', 'Y1Q1', 'boqOf', 'BlL', 'fYG']\n",
    "\n",
    "for string in li:\n",
    "    print(re.sub(\"^[A-z].+[A-z]$\", \"#\", string), end = \",  \")"
   ]
  },
  {
   "cell_type": "markdown",
   "id": "c04dd55b-0dd7-473e-8d43-133c45358ad9",
   "metadata": {},
   "source": [
    "## 오전 수업 시작 p298"
   ]
  },
  {
   "cell_type": "markdown",
   "id": "93649114-6bc3-4c6f-8643-83e22e363dff",
   "metadata": {},
   "source": [
    "### p = re.compil"
   ]
  },
  {
   "cell_type": "code",
   "execution_count": 45,
   "id": "947eb6ce-e0ca-408c-808b-a58d4d11c58b",
   "metadata": {},
   "outputs": [
    {
     "data": {
      "text/plain": [
       "re.Pattern"
      ]
     },
     "execution_count": 45,
     "metadata": {},
     "output_type": "execute_result"
    }
   ],
   "source": [
    "#for string in li:\n",
    "#    print(re.sub(\"^[A-z].+[A-z]$\", \"#\", string), end = \",  \")\n",
    "# 어떤 패턴에 대하여 바꾸어라 어떤 문장에 대하여\n",
    "\n",
    "p = re.compile(\"^[A-z].+[A-z]$\")\n",
    "type(p)"
   ]
  },
  {
   "cell_type": "code",
   "execution_count": 50,
   "id": "6b51d53e-b628-4fda-9ac6-4c1aedbac1f9",
   "metadata": {},
   "outputs": [
    {
     "data": {
      "text/plain": [
       "'#'"
      ]
     },
     "execution_count": 50,
     "metadata": {},
     "output_type": "execute_result"
    }
   ],
   "source": [
    "# 1번 방법 권장\n",
    "\n",
    "#(1)\n",
    "p = re.compile(\"^[A-z].+[A-z]$\")\n",
    "p.sub(\"#\", string)\n",
    "\n",
    "#(2)\n",
    "re.sub(\"^[A-z].+[A-z]$\", \"#\", string)"
   ]
  },
  {
   "cell_type": "markdown",
   "id": "69c0c0fa-9b46-4f5f-8229-63ea4df62cf5",
   "metadata": {},
   "source": [
    "### 정규식을 사용한 문자열 검색 p298"
   ]
  },
  {
   "cell_type": "markdown",
   "id": "71cccb02-ed67-4aa9-b5ba-7366e392d9e4",
   "metadata": {},
   "source": [
    "#### match() : 문자열의 처음부터 정규식과 매치"
   ]
  },
  {
   "cell_type": "code",
   "execution_count": 170,
   "id": "cb0e83a7-96c7-46ea-a681-bc7e62190e00",
   "metadata": {},
   "outputs": [],
   "source": [
    "p = re.compile(\"[a-z]+\")"
   ]
  },
  {
   "cell_type": "code",
   "execution_count": 171,
   "id": "ad696742-56b0-41f6-95b0-55249a31d089",
   "metadata": {},
   "outputs": [
    {
     "data": {
      "text/plain": [
       "<re.Match object; span=(0, 6), match='python'>"
      ]
     },
     "execution_count": 171,
     "metadata": {},
     "output_type": "execute_result"
    }
   ],
   "source": [
    "p.match(\"python\")"
   ]
  },
  {
   "cell_type": "code",
   "execution_count": 53,
   "id": "9d2e23cf-7bed-4a0f-9a5a-956415637719",
   "metadata": {},
   "outputs": [
    {
     "data": {
      "text/plain": [
       "<re.Match object; span=(0, 6), match='python'>"
      ]
     },
     "execution_count": 53,
     "metadata": {},
     "output_type": "execute_result"
    }
   ],
   "source": [
    "re.match(\"[a-z]+\",\"python\")"
   ]
  },
  {
   "cell_type": "code",
   "execution_count": 57,
   "id": "f2477b59-b578-4a8e-b458-6e83a99d134a",
   "metadata": {},
   "outputs": [
    {
     "data": {
      "text/plain": [
       "<re.Match object; span=(0, 6), match='python'>"
      ]
     },
     "execution_count": 57,
     "metadata": {},
     "output_type": "execute_result"
    }
   ],
   "source": [
    "p.match(\"pythonPYTHON1234\")"
   ]
  },
  {
   "cell_type": "code",
   "execution_count": 172,
   "id": "391bb68c-026a-473e-aa69-36045e7941a3",
   "metadata": {},
   "outputs": [],
   "source": [
    "# 각 문장의 처음만 찾아준다. \n",
    "\n",
    "p.match(\"PYTHONpython1234\")\n",
    "# -> none"
   ]
  },
  {
   "cell_type": "markdown",
   "id": "4077596b-f4a1-47cf-82a5-aeb3cf08b22e",
   "metadata": {},
   "source": [
    "#### seaech() : 문자열 전체를 검색하여 정규식과 매치되는지."
   ]
  },
  {
   "cell_type": "code",
   "execution_count": 61,
   "id": "bae4e6d4-964e-4477-8839-16d5f8fb7f8c",
   "metadata": {},
   "outputs": [
    {
     "data": {
      "text/plain": [
       "<re.Match object; span=(6, 12), match='python'>"
      ]
     },
     "execution_count": 61,
     "metadata": {},
     "output_type": "execute_result"
    }
   ],
   "source": [
    "p.search(\"PYTHONpython1234\")"
   ]
  },
  {
   "cell_type": "code",
   "execution_count": 62,
   "id": "260df7a4-292e-4dc0-903b-808b161b2e98",
   "metadata": {},
   "outputs": [
    {
     "data": {
      "text/plain": [
       "<re.Match object; span=(0, 6), match='python'>"
      ]
     },
     "execution_count": 62,
     "metadata": {},
     "output_type": "execute_result"
    }
   ],
   "source": [
    "p.match(\"pythonPYTHON1234\")"
   ]
  },
  {
   "cell_type": "markdown",
   "id": "83debf62-01eb-4bce-b4b5-cc2df7d8aa11",
   "metadata": {},
   "source": [
    "#### findall() : 정규식과 매치되는 모든 문자열을 리스트로 나옴."
   ]
  },
  {
   "cell_type": "code",
   "execution_count": 63,
   "id": "3672f9a4-5d4f-4830-a22e-b34ebea0b283",
   "metadata": {},
   "outputs": [
    {
     "data": {
      "text/plain": [
       "['python']"
      ]
     },
     "execution_count": 63,
     "metadata": {},
     "output_type": "execute_result"
    }
   ],
   "source": [
    "p.findall(\"PYTHONpython1234\")"
   ]
  },
  {
   "cell_type": "markdown",
   "id": "65c00470-8fab-4df1-91cf-17cedc681b45",
   "metadata": {},
   "source": [
    "#### finditer() : 정규식과 매치되는 모든 문자열을 반복 가능한 객체로 돌려줌.\n"
   ]
  },
  {
   "cell_type": "code",
   "execution_count": 167,
   "id": "4bb17a2d-3ef8-4a91-9865-864251a36a69",
   "metadata": {},
   "outputs": [
    {
     "data": {
      "text/plain": [
       "<callable_iterator at 0x2391f9a7130>"
      ]
     },
     "execution_count": 167,
     "metadata": {},
     "output_type": "execute_result"
    }
   ],
   "source": [
    "p.finditer(\"PYTHONpython1234\")"
   ]
  },
  {
   "cell_type": "code",
   "execution_count": 168,
   "id": "5ac32ffa-a078-427d-98cb-d0e41de0859f",
   "metadata": {},
   "outputs": [],
   "source": [
    "for i in p.finditer(\"PYTHONpython1234\"):\n",
    "    print(i)"
   ]
  },
  {
   "cell_type": "markdown",
   "id": "bca25872-a3c3-4865-801e-19a295b1234e",
   "metadata": {},
   "source": [
    "### match 객체의 메서드"
   ]
  },
  {
   "cell_type": "code",
   "execution_count": 177,
   "id": "cb685fca-a3d7-4de6-979f-c0c86f3bc488",
   "metadata": {},
   "outputs": [
    {
     "data": {
      "text/plain": [
       "<re.Match object; span=(0, 6), match='python'>"
      ]
     },
     "execution_count": 177,
     "metadata": {},
     "output_type": "execute_result"
    }
   ],
   "source": [
    "p = re.compile(\"[a-z]+\")\n",
    "p.match(\"python\")"
   ]
  },
  {
   "cell_type": "code",
   "execution_count": 173,
   "id": "a4cc1f01-af01-497a-96e6-99f8b53ea1f7",
   "metadata": {},
   "outputs": [
    {
     "data": {
      "text/plain": [
       "'python'"
      ]
     },
     "execution_count": 173,
     "metadata": {},
     "output_type": "execute_result"
    }
   ],
   "source": [
    "#자주 사용한다. group()\n",
    "\n",
    "p.match(\"pythonPYTHON1234\").group()"
   ]
  },
  {
   "cell_type": "code",
   "execution_count": 174,
   "id": "4f107378-f3d3-4f3a-ba9d-4aabaecf419b",
   "metadata": {},
   "outputs": [
    {
     "data": {
      "text/plain": [
       "0"
      ]
     },
     "execution_count": 174,
     "metadata": {},
     "output_type": "execute_result"
    }
   ],
   "source": [
    "#시작위치\n",
    "\n",
    "p.match(\"pythonPYTHON1234\").start()"
   ]
  },
  {
   "cell_type": "code",
   "execution_count": 175,
   "id": "ec3fe6e1-e741-4b3f-8790-efa4863cc20a",
   "metadata": {},
   "outputs": [
    {
     "data": {
      "text/plain": [
       "(0, 6)"
      ]
     },
     "execution_count": 175,
     "metadata": {},
     "output_type": "execute_result"
    }
   ],
   "source": [
    "#시작,끝 튜플로\n",
    "\n",
    "p.match(\"pythonPYTHON1234\").span()"
   ]
  },
  {
   "cell_type": "code",
   "execution_count": 176,
   "id": "2dfc18a8-baad-4b76-8a67-1d017fa5861a",
   "metadata": {},
   "outputs": [
    {
     "data": {
      "text/plain": [
       "'python'"
      ]
     },
     "execution_count": 176,
     "metadata": {},
     "output_type": "execute_result"
    }
   ],
   "source": [
    "p.search(\"pythonPYTHON1234\").group()"
   ]
  },
  {
   "cell_type": "code",
   "execution_count": 95,
   "id": "484b3c45-0b10-44f6-8cc2-5f66f962cc55",
   "metadata": {},
   "outputs": [
    {
     "data": {
      "text/plain": [
       "(0, 6)"
      ]
     },
     "execution_count": 95,
     "metadata": {},
     "output_type": "execute_result"
    }
   ],
   "source": [
    "p.search(\"pythonPYTHON1234\").span()"
   ]
  },
  {
   "cell_type": "markdown",
   "id": "9c44b098-982b-4217-85b1-4dc09daf24be",
   "metadata": {},
   "source": [
    "#### 전화번호 골라내기 문제"
   ]
  },
  {
   "cell_type": "code",
   "execution_count": null,
   "id": "2dd0e9bb-e379-4487-b1fb-689a47a9f4f1",
   "metadata": {},
   "outputs": [],
   "source": [
    "data = [\"010-1234-5678\", \"010-1234-5679\", \"010-1234-5670\", \"010-1234-670\", \"02-334-2243\"] \n",
    "\n",
    "for i in data:\n",
    "    print(re.search())"
   ]
  },
  {
   "cell_type": "code",
   "execution_count": 190,
   "id": "dc540ab0-52d4-406e-a070-2eefb17af0c4",
   "metadata": {},
   "outputs": [
    {
     "data": {
      "text/plain": [
       "['010-1234-5678', '010-1234-5679', '010-1234-5670']"
      ]
     },
     "execution_count": 190,
     "metadata": {},
     "output_type": "execute_result"
    }
   ],
   "source": [
    "def is_phone_number_ok(data):\n",
    "    phone_number=[]\n",
    "    for i  in data:\n",
    "        if re.search(\"010-\\d{4}-\\d{4}\",i):\n",
    "            phone_number.append(i)\n",
    "    return phone_number\n",
    "is_phone_number_ok(data)"
   ]
  },
  {
   "cell_type": "code",
   "execution_count": 179,
   "id": "de8dc018-8c1b-4cb2-9bba-6a647d85b28a",
   "metadata": {},
   "outputs": [
    {
     "ename": "TypeError",
     "evalue": "expected string or bytes-like object",
     "output_type": "error",
     "traceback": [
      "\u001b[1;31m---------------------------------------------------------------------------\u001b[0m",
      "\u001b[1;31mTypeError\u001b[0m                                 Traceback (most recent call last)",
      "Input \u001b[1;32mIn [179]\u001b[0m, in \u001b[0;36m<cell line: 9>\u001b[1;34m()\u001b[0m\n\u001b[0;32m      6\u001b[0m         phone_number\u001b[38;5;241m.\u001b[39mappend(i\u001b[38;5;241m.\u001b[39mgroup())\n\u001b[0;32m      7\u001b[0m     \u001b[38;5;28;01mreturn\u001b[39;00m phone_number \n\u001b[1;32m----> 9\u001b[0m \u001b[43mis_phone_number\u001b[49m\u001b[43m(\u001b[49m\u001b[43mdata\u001b[49m\u001b[43m)\u001b[49m\n",
      "Input \u001b[1;32mIn [179]\u001b[0m, in \u001b[0;36mis_phone_number\u001b[1;34m(data)\u001b[0m\n\u001b[0;32m      3\u001b[0m \u001b[38;5;28;01mdef\u001b[39;00m \u001b[38;5;21mis_phone_number\u001b[39m(data):\n\u001b[0;32m      4\u001b[0m     phone_number \u001b[38;5;241m=\u001b[39m []\n\u001b[1;32m----> 5\u001b[0m     \u001b[38;5;28;01mfor\u001b[39;00m i \u001b[38;5;129;01min\u001b[39;00m \u001b[43mre\u001b[49m\u001b[38;5;241;43m.\u001b[39;49m\u001b[43mfinditer\u001b[49m\u001b[43m(\u001b[49m\u001b[38;5;124;43m'\u001b[39;49m\u001b[38;5;124;43m010[-]\u001b[39;49m\u001b[38;5;124;43m\\\u001b[39;49m\u001b[38;5;124;43md\u001b[39;49m\u001b[38;5;132;43;01m{4}\u001b[39;49;00m\u001b[38;5;124;43m-\u001b[39;49m\u001b[38;5;124;43m\\\u001b[39;49m\u001b[38;5;124;43md\u001b[39;49m\u001b[38;5;132;43;01m{4}\u001b[39;49;00m\u001b[38;5;124;43m'\u001b[39;49m\u001b[43m,\u001b[49m\u001b[43m \u001b[49m\u001b[43mdata\u001b[49m\u001b[43m)\u001b[49m:\n\u001b[0;32m      6\u001b[0m         phone_number\u001b[38;5;241m.\u001b[39mappend(i\u001b[38;5;241m.\u001b[39mgroup())\n\u001b[0;32m      7\u001b[0m     \u001b[38;5;28;01mreturn\u001b[39;00m phone_number\n",
      "File \u001b[1;32m~\\AppData\\Local\\Programs\\Python\\Python310\\lib\\re.py:247\u001b[0m, in \u001b[0;36mfinditer\u001b[1;34m(pattern, string, flags)\u001b[0m\n\u001b[0;32m    242\u001b[0m \u001b[38;5;28;01mdef\u001b[39;00m \u001b[38;5;21mfinditer\u001b[39m(pattern, string, flags\u001b[38;5;241m=\u001b[39m\u001b[38;5;241m0\u001b[39m):\n\u001b[0;32m    243\u001b[0m     \u001b[38;5;124;03m\"\"\"Return an iterator over all non-overlapping matches in the\u001b[39;00m\n\u001b[0;32m    244\u001b[0m \u001b[38;5;124;03m    string.  For each match, the iterator returns a Match object.\u001b[39;00m\n\u001b[0;32m    245\u001b[0m \n\u001b[0;32m    246\u001b[0m \u001b[38;5;124;03m    Empty matches are included in the result.\"\"\"\u001b[39;00m\n\u001b[1;32m--> 247\u001b[0m     \u001b[38;5;28;01mreturn\u001b[39;00m \u001b[43m_compile\u001b[49m\u001b[43m(\u001b[49m\u001b[43mpattern\u001b[49m\u001b[43m,\u001b[49m\u001b[43m \u001b[49m\u001b[43mflags\u001b[49m\u001b[43m)\u001b[49m\u001b[38;5;241;43m.\u001b[39;49m\u001b[43mfinditer\u001b[49m\u001b[43m(\u001b[49m\u001b[43mstring\u001b[49m\u001b[43m)\u001b[49m\n",
      "\u001b[1;31mTypeError\u001b[0m: expected string or bytes-like object"
     ]
    }
   ],
   "source": [
    "data = \"010-1234-5678\", \"010-1234-5679\", \"010-1234-5670\", \"010-1234-670\", \"02-334-2243\" \n",
    "\n",
    "def is_phone_number(data):\n",
    "    phone_number = []\n",
    "    for i in re.finditer('010[-]\\d{4}-\\d{4}', data):\n",
    "        phone_number.append(i.group())\n",
    "    return phone_number \n",
    "\n",
    "is_phone_number(data)\n"
   ]
  },
  {
   "cell_type": "markdown",
   "id": "7856cd3c-7cbf-4fb1-80b1-203d99d7b98d",
   "metadata": {},
   "source": [
    "#### 자기소개 문제"
   ]
  },
  {
   "cell_type": "code",
   "execution_count": 96,
   "id": "7e9dd708-71bb-4757-81c7-fba3044d36a2",
   "metadata": {},
   "outputs": [
    {
     "name": "stdout",
     "output_type": "stream",
     "text": [
      "(2, 5)\n",
      "(19, 22)\n",
      "(45, 48)\n"
     ]
    }
   ],
   "source": [
    "msg=\"안녕하세요. 제 소개부터 드리도록 하지요. 저는 의미있는 일을 하고 싶어요. 건강하세요.\" \n",
    "# 하세요.하지요.싶어요 의 sapam()\n",
    "\n",
    "for i in re.finditer(\"하세요|하지요|싫어요\", msg):\n",
    "    print(i.span()) "
   ]
  },
  {
   "cell_type": "markdown",
   "id": "ab3aa42c-c0e8-49dd-a2fc-e1f5cda719a6",
   "metadata": {},
   "source": [
    "## 오후 수업 시작 p309"
   ]
  },
  {
   "cell_type": "markdown",
   "id": "108a405c-c8bb-401c-a762-732de0264e42",
   "metadata": {},
   "source": [
    "### 강력한 정규표현식의 세계로 p309"
   ]
  },
  {
   "cell_type": "markdown",
   "id": "409427c7-3977-4703-8564-9c1640662227",
   "metadata": {},
   "source": [
    "### 그루핑(grouping) p312\n"
   ]
  },
  {
   "cell_type": "code",
   "execution_count": 188,
   "id": "04bce9a8-ecd4-48c4-a1bb-249409761f71",
   "metadata": {},
   "outputs": [],
   "source": [
    "sentence = \"park 010-1234-1234\"\n",
    "p = re.compile(r'(\\w+)\\s((\\d+)[-]\\d+[-]\\d+)')"
   ]
  },
  {
   "cell_type": "code",
   "execution_count": 183,
   "id": "33d6e2a8-1ba7-452c-89a9-6fceaa6fa49d",
   "metadata": {},
   "outputs": [
    {
     "data": {
      "text/plain": [
       "'park'"
      ]
     },
     "execution_count": 183,
     "metadata": {},
     "output_type": "execute_result"
    }
   ],
   "source": [
    "#이름만 뽑기\n",
    "p.search(sentence).group(1)"
   ]
  },
  {
   "cell_type": "code",
   "execution_count": 184,
   "id": "fe41e37d-499d-403c-a4fe-c9c550f51df6",
   "metadata": {},
   "outputs": [
    {
     "data": {
      "text/plain": [
       "'010-1234-1234'"
      ]
     },
     "execution_count": 184,
     "metadata": {},
     "output_type": "execute_result"
    }
   ],
   "source": [
    "# 전화번호만 뽑기\n",
    "p.search(sentence).group(2)"
   ]
  },
  {
   "cell_type": "code",
   "execution_count": 189,
   "id": "ddb88bb5-de56-4f30-86c3-009b05a278c7",
   "metadata": {},
   "outputs": [
    {
     "data": {
      "text/plain": [
       "'010'"
      ]
     },
     "execution_count": 189,
     "metadata": {},
     "output_type": "execute_result"
    }
   ],
   "source": [
    "# 국번만 뽑기\n",
    "p.search(sentence).group(3)"
   ]
  },
  {
   "cell_type": "code",
   "execution_count": 105,
   "id": "d6d4612d-6ec0-4607-9d0a-7ca7e9a55de5",
   "metadata": {},
   "outputs": [
    {
     "data": {
      "text/plain": [
       "'park 010-1234-1234'"
      ]
     },
     "execution_count": 105,
     "metadata": {},
     "output_type": "execute_result"
    }
   ],
   "source": [
    "# 그룹 전부다 뽑기\n",
    "p.search(sentence).group(0)"
   ]
  },
  {
   "cell_type": "code",
   "execution_count": 107,
   "id": "55df6ee6-5c80-4c2a-bc3c-12aa69782759",
   "metadata": {},
   "outputs": [
    {
     "name": "stdout",
     "output_type": "stream",
     "text": [
      "010-1234-1234 park\n"
     ]
    }
   ],
   "source": [
    "print(p.search(sentence).group(2),p.search(sentence).group(1))"
   ]
  },
  {
   "cell_type": "markdown",
   "id": "97dcbb0b-fa51-4cd2-912d-d938ce4958fe",
   "metadata": {},
   "source": [
    "### 그루핑된 문자열에 이름 붙이기"
   ]
  },
  {
   "cell_type": "markdown",
   "id": "41c3b535-7e57-4bda-9573-5918681ff434",
   "metadata": {},
   "source": [
    "### (?P <name> )"
   ]
  },
  {
   "cell_type": "code",
   "execution_count": 140,
   "id": "9b1da011-0db3-42d1-8eda-4f30f322727c",
   "metadata": {},
   "outputs": [],
   "source": [
    "sentence = \"park 010-1234-1234\"\n",
    "p = re.compile(r'(?P<family>\\w+)\\s((\\d)+[-]\\d+[-]\\d+)')"
   ]
  },
  {
   "cell_type": "code",
   "execution_count": 141,
   "id": "b3e1f426-e723-47c1-8345-67edb8f2ac61",
   "metadata": {},
   "outputs": [
    {
     "data": {
      "text/plain": [
       "'park'"
      ]
     },
     "execution_count": 141,
     "metadata": {},
     "output_type": "execute_result"
    }
   ],
   "source": [
    "p.search(sentence).group(\"family\")"
   ]
  },
  {
   "cell_type": "code",
   "execution_count": 112,
   "id": "c6a2992f-07df-463b-bffb-f23fa7501fb9",
   "metadata": {},
   "outputs": [],
   "source": [
    "sentence = \"park 010-1234-1234 kim\"\n",
    "p = re.compile(r'(\\w+)\\s((\\d)+[-]\\d+[-]\\d+)')"
   ]
  },
  {
   "cell_type": "code",
   "execution_count": 113,
   "id": "d86be9f2-92bc-4814-bf92-17b458492754",
   "metadata": {},
   "outputs": [
    {
     "data": {
      "text/plain": [
       "'010-1234-1234'"
      ]
     },
     "execution_count": 113,
     "metadata": {},
     "output_type": "execute_result"
    }
   ],
   "source": [
    "p.search(sentence).group(2)"
   ]
  },
  {
   "cell_type": "code",
   "execution_count": 116,
   "id": "2440c687-6c90-4200-acd8-0cc89e19c598",
   "metadata": {
    "collapsed": true,
    "jupyter": {
     "outputs_hidden": true
    },
    "tags": []
   },
   "outputs": [
    {
     "name": "stdout",
     "output_type": "stream",
     "text": [
      "Support for regular expressions (RE).\n",
      "\n",
      "This module provides regular expression matching operations similar to\n",
      "those found in Perl.  It supports both 8-bit and Unicode strings; both\n",
      "the pattern and the strings being processed can contain null bytes and\n",
      "characters outside the US ASCII range.\n",
      "\n",
      "Regular expressions can contain both special and ordinary characters.\n",
      "Most ordinary characters, like \"A\", \"a\", or \"0\", are the simplest\n",
      "regular expressions; they simply match themselves.  You can\n",
      "concatenate ordinary characters, so last matches the string 'last'.\n",
      "\n",
      "The special characters are:\n",
      "    \".\"      Matches any character except a newline.\n",
      "    \"^\"      Matches the start of the string.\n",
      "    \"$\"      Matches the end of the string or just before the newline at\n",
      "             the end of the string.\n",
      "    \"*\"      Matches 0 or more (greedy) repetitions of the preceding RE.\n",
      "             Greedy means that it will match as many repetitions as possible.\n",
      "    \"+\"      Matches 1 or more (greedy) repetitions of the preceding RE.\n",
      "    \"?\"      Matches 0 or 1 (greedy) of the preceding RE.\n",
      "    *?,+?,?? Non-greedy versions of the previous three special characters.\n",
      "    {m,n}    Matches from m to n repetitions of the preceding RE.\n",
      "    {m,n}?   Non-greedy version of the above.\n",
      "    \"\\\\\"     Either escapes special characters or signals a special sequence.\n",
      "    []       Indicates a set of characters.\n",
      "             A \"^\" as the first character indicates a complementing set.\n",
      "    \"|\"      A|B, creates an RE that will match either A or B.\n",
      "    (...)    Matches the RE inside the parentheses.\n",
      "             The contents can be retrieved or matched later in the string.\n",
      "    (?aiLmsux) The letters set the corresponding flags defined below.\n",
      "    (?:...)  Non-grouping version of regular parentheses.\n",
      "    (?P<name>...) The substring matched by the group is accessible by name.\n",
      "    (?P=name)     Matches the text matched earlier by the group named name.\n",
      "    (?#...)  A comment; ignored.\n",
      "    (?=...)  Matches if ... matches next, but doesn't consume the string.\n",
      "    (?!...)  Matches if ... doesn't match next.\n",
      "    (?<=...) Matches if preceded by ... (must be fixed length).\n",
      "    (?<!...) Matches if not preceded by ... (must be fixed length).\n",
      "    (?(id/name)yes|no) Matches yes pattern if the group with id/name matched,\n",
      "                       the (optional) no pattern otherwise.\n",
      "\n",
      "The special sequences consist of \"\\\\\" and a character from the list\n",
      "below.  If the ordinary character is not on the list, then the\n",
      "resulting RE will match the second character.\n",
      "    \\number  Matches the contents of the group of the same number.\n",
      "    \\A       Matches only at the start of the string.\n",
      "    \\Z       Matches only at the end of the string.\n",
      "    \\b       Matches the empty string, but only at the start or end of a word.\n",
      "    \\B       Matches the empty string, but not at the start or end of a word.\n",
      "    \\d       Matches any decimal digit; equivalent to the set [0-9] in\n",
      "             bytes patterns or string patterns with the ASCII flag.\n",
      "             In string patterns without the ASCII flag, it will match the whole\n",
      "             range of Unicode digits.\n",
      "    \\D       Matches any non-digit character; equivalent to [^\\d].\n",
      "    \\s       Matches any whitespace character; equivalent to [ \\t\\n\\r\\f\\v] in\n",
      "             bytes patterns or string patterns with the ASCII flag.\n",
      "             In string patterns without the ASCII flag, it will match the whole\n",
      "             range of Unicode whitespace characters.\n",
      "    \\S       Matches any non-whitespace character; equivalent to [^\\s].\n",
      "    \\w       Matches any alphanumeric character; equivalent to [a-zA-Z0-9_]\n",
      "             in bytes patterns or string patterns with the ASCII flag.\n",
      "             In string patterns without the ASCII flag, it will match the\n",
      "             range of Unicode alphanumeric characters (letters plus digits\n",
      "             plus underscore).\n",
      "             With LOCALE, it will match the set [0-9_] plus characters defined\n",
      "             as letters for the current locale.\n",
      "    \\W       Matches the complement of \\w.\n",
      "    \\\\       Matches a literal backslash.\n",
      "\n",
      "This module exports the following functions:\n",
      "    match     Match a regular expression pattern to the beginning of a string.\n",
      "    fullmatch Match a regular expression pattern to all of a string.\n",
      "    search    Search a string for the presence of a pattern.\n",
      "    sub       Substitute occurrences of a pattern found in a string.\n",
      "    subn      Same as sub, but also return the number of substitutions made.\n",
      "    split     Split a string by the occurrences of a pattern.\n",
      "    findall   Find all occurrences of a pattern in a string.\n",
      "    finditer  Return an iterator yielding a Match object for each match.\n",
      "    compile   Compile a pattern into a Pattern object.\n",
      "    purge     Clear the regular expression cache.\n",
      "    escape    Backslash all non-alphanumerics in a string.\n",
      "\n",
      "Each function other than purge and escape can take an optional 'flags' argument\n",
      "consisting of one or more of the following module constants, joined by \"|\".\n",
      "A, L, and U are mutually exclusive.\n",
      "    A  ASCII       For string patterns, make \\w, \\W, \\b, \\B, \\d, \\D\n",
      "                   match the corresponding ASCII character categories\n",
      "                   (rather than the whole Unicode categories, which is the\n",
      "                   default).\n",
      "                   For bytes patterns, this flag is the only available\n",
      "                   behaviour and needn't be specified.\n",
      "    I  IGNORECASE  Perform case-insensitive matching.\n",
      "    L  LOCALE      Make \\w, \\W, \\b, \\B, dependent on the current locale.\n",
      "    M  MULTILINE   \"^\" matches the beginning of lines (after a newline)\n",
      "                   as well as the string.\n",
      "                   \"$\" matches the end of lines (before a newline) as well\n",
      "                   as the end of the string.\n",
      "    S  DOTALL      \".\" matches any character at all, including the newline.\n",
      "    X  VERBOSE     Ignore whitespace and comments for nicer looking RE's.\n",
      "    U  UNICODE     For compatibility only. Ignored for string patterns (it\n",
      "                   is the default), and forbidden for bytes patterns.\n",
      "\n",
      "This module also defines an exception 'error'.\n",
      "\n",
      "\n"
     ]
    }
   ],
   "source": [
    "print(re.__doc__)"
   ]
  },
  {
   "cell_type": "markdown",
   "id": "d624c6fc-6e90-4c00-8c4d-3a87c03eb6b4",
   "metadata": {},
   "source": [
    "### 전방탐색"
   ]
  },
  {
   "cell_type": "code",
   "execution_count": 199,
   "id": "f8e2ccf0-19fd-4d22-9ef7-1f34c12dc9bd",
   "metadata": {},
   "outputs": [
    {
     "data": {
      "text/plain": [
       "<re.Match object; span=(0, 5), match='http:'>"
      ]
     },
     "execution_count": 199,
     "metadata": {},
     "output_type": "execute_result"
    }
   ],
   "source": [
    "p = re.compile(\".+:\")\n",
    "m = p.search(\"http://goolgle.com\")\n",
    "m"
   ]
  },
  {
   "cell_type": "code",
   "execution_count": 201,
   "id": "484cc4a8-4da9-4153-8510-2c4bb95d823d",
   "metadata": {},
   "outputs": [
    {
     "data": {
      "text/plain": [
       "'http:'"
      ]
     },
     "execution_count": 201,
     "metadata": {},
     "output_type": "execute_result"
    }
   ],
   "source": [
    "p = re.compile(\".+:\")\n",
    "m = p.search(\"http://goolgle.com\")\n",
    "m.group()"
   ]
  },
  {
   "cell_type": "code",
   "execution_count": 202,
   "id": "fd3bcbba-7b99-4d79-9b53-6bc7e8ca526f",
   "metadata": {},
   "outputs": [
    {
     "data": {
      "text/plain": [
       "'http'"
      ]
     },
     "execution_count": 202,
     "metadata": {},
     "output_type": "execute_result"
    }
   ],
   "source": [
    "# 긍정형 정방탐색 p316\n",
    "\n",
    "p = re.compile(\".+(?=:)\")\n",
    "m = p.search(\"http://goolgle.com\")\n",
    "m.group()"
   ]
  },
  {
   "cell_type": "code",
   "execution_count": 203,
   "id": "b81fdb4b-3dcb-499f-8c13-35e27bc5ce20",
   "metadata": {},
   "outputs": [
    {
     "data": {
      "text/plain": [
       "'http://goolgle.com'"
      ]
     },
     "execution_count": 203,
     "metadata": {},
     "output_type": "execute_result"
    }
   ],
   "source": [
    "p = re.compile(\".+(?!:)\")\n",
    "m = p.search(\"http://goolgle.com\")\n",
    "m.group()"
   ]
  },
  {
   "cell_type": "markdown",
   "id": "5f65967c-91c3-46dd-873d-342fe93dbb9d",
   "metadata": {},
   "source": [
    "### 부정형전방 탐색\n"
   ]
  },
  {
   "cell_type": "code",
   "execution_count": 124,
   "id": "6d2943ff-bb4c-4769-8936-fd6d33f2b30a",
   "metadata": {},
   "outputs": [
    {
     "data": {
      "text/plain": [
       "<re.Match object; span=(0, 26), match='aaa.exe, bbb.pdf , ccc.hwp'>"
      ]
     },
     "execution_count": 124,
     "metadata": {},
     "output_type": "execute_result"
    }
   ],
   "source": [
    "sentence = \"aaa.exe, bbb.pdf , ccc.hwp\"\n",
    "p = re. compile(\".*[.](?!bat$).*$\")\n",
    "p.search(sentence)"
   ]
  },
  {
   "cell_type": "code",
   "execution_count": 125,
   "id": "cae95ff8-0b0a-4cfb-b079-747dea63d37d",
   "metadata": {},
   "outputs": [
    {
     "data": {
      "text/plain": [
       "<re.Match object; span=(0, 23), match='aaa.exe, bbb.pdf , ccc.'>"
      ]
     },
     "execution_count": 125,
     "metadata": {},
     "output_type": "execute_result"
    }
   ],
   "source": [
    "sentence = \"aaa.exe, bbb.pdf , ccc.hwp\"\n",
    "p = re. compile(\".*[.](?!exe$)\")\n",
    "p.search(sentence)"
   ]
  },
  {
   "cell_type": "code",
   "execution_count": 127,
   "id": "00606818-86d0-48a3-8504-eb6cd54ddd86",
   "metadata": {},
   "outputs": [
    {
     "data": {
      "text/plain": [
       "'://goolgle.com'"
      ]
     },
     "execution_count": 127,
     "metadata": {},
     "output_type": "execute_result"
    }
   ],
   "source": [
    "# 후방탐색\n",
    "\n",
    "p = re.compile(\"(?=:).+\")\n",
    "m = p.search(\"http://goolgle.com\")\n",
    "m.group()"
   ]
  },
  {
   "cell_type": "code",
   "execution_count": 136,
   "id": "5f1c72aa-98d4-4c97-8319-bfa132679230",
   "metadata": {},
   "outputs": [
    {
     "data": {
      "text/plain": [
       "'o2022'"
      ]
     },
     "execution_count": 136,
     "metadata": {},
     "output_type": "execute_result"
    }
   ],
   "source": [
    "# ll뒤로 나온다.\n",
    "\n",
    "p = re.compile(\"(?<=ll).+\")\n",
    "m = p.search(\"hello2022\")\n",
    "m.group()"
   ]
  },
  {
   "cell_type": "code",
   "execution_count": 132,
   "id": "e3d13d99-96eb-4275-aea3-8af25533c045",
   "metadata": {},
   "outputs": [
    {
     "data": {
      "text/plain": [
       "'llo2022'"
      ]
     },
     "execution_count": 132,
     "metadata": {},
     "output_type": "execute_result"
    }
   ],
   "source": [
    "# < 없애면 ll포함 하여 나옴.\n",
    "\n",
    "p = re.compile(\"(?=ll).+\")\n",
    "m = p.search(\"hello2022\")\n",
    "m.group()"
   ]
  },
  {
   "cell_type": "code",
   "execution_count": 135,
   "id": "e19d2756-1178-41ad-80fd-34f3f28033be",
   "metadata": {},
   "outputs": [
    {
     "data": {
      "text/plain": [
       "'he'"
      ]
     },
     "execution_count": 135,
     "metadata": {},
     "output_type": "execute_result"
    }
   ],
   "source": [
    "# ll기준으로 전방으로 나옴.\n",
    "\n",
    "p = re.compile(\".+(?=ll)\")\n",
    "m = p.search(\"hello2022\")\n",
    "m.group()"
   ]
  },
  {
   "cell_type": "markdown",
   "id": "cc3695e1-f59a-46be-8c82-e98b4ed012b9",
   "metadata": {},
   "source": [
    "### 문자열 바꾸기 p318"
   ]
  },
  {
   "cell_type": "code",
   "execution_count": 144,
   "id": "d6101f6d-fd3a-4e90-a32c-138bc3ff39eb",
   "metadata": {},
   "outputs": [
    {
     "name": "stdout",
     "output_type": "stream",
     "text": [
      "010-1234-1234 park\n"
     ]
    }
   ],
   "source": [
    "\n",
    "p = re.compile(r'(?P<name>\\w+)\\s+(?P<phone>(\\d)+[-]\\d+[-]\\d+)')\n",
    "print(p.sub(\"\\g<2> \\g<1>\",\"park 010-1234-1234\"))"
   ]
  },
  {
   "cell_type": "markdown",
   "id": "5e008c34-dee7-4ac5-970b-26e3c4cedde3",
   "metadata": {},
   "source": [
    "##### 문제"
   ]
  },
  {
   "cell_type": "code",
   "execution_count": 146,
   "id": "d53d6ba3-a7d7-4ef5-9fa7-29fb05631bfb",
   "metadata": {},
   "outputs": [],
   "source": [
    "data = '''\n",
    "http://www.forta.com\n",
    "  a\n",
    "https://mail.forta.com\n",
    " b\n",
    "ftp://ftp.forta.com\n",
    " c\n",
    "'''"
   ]
  },
  {
   "cell_type": "code",
   "execution_count": 149,
   "id": "d1846985-3e98-4add-af02-0b1ee19eaf97",
   "metadata": {},
   "outputs": [
    {
     "data": {
      "text/plain": [
       "['forta.com', 'forta.com', 'ftp.for']"
      ]
     },
     "execution_count": 149,
     "metadata": {},
     "output_type": "execute_result"
    }
   ],
   "source": [
    "# f로 시작하는 구해라.\n",
    "\n",
    "p = re.compile(r\"f\\w+[.]\\w{3}\")\n",
    "p.findall(data)\n"
   ]
  },
  {
   "cell_type": "code",
   "execution_count": 151,
   "id": "5fa790c3-d147-4829-b1fd-3a1c6ae2a090",
   "metadata": {},
   "outputs": [
    {
     "data": {
      "text/plain": [
       "['http://www.', 'https://mail.', 'ftp://ftp.']"
      ]
     },
     "execution_count": 151,
     "metadata": {},
     "output_type": "execute_result"
    }
   ],
   "source": [
    "# f를 기준으로 \n",
    "\n",
    "p = re.compile(r\".+(?=f)\")\n",
    "p.findall(data)\n"
   ]
  },
  {
   "cell_type": "code",
   "execution_count": 152,
   "id": "14da71f1-3e14-48c8-ad76-238c858a57c7",
   "metadata": {},
   "outputs": [
    {
     "data": {
      "text/plain": [
       "['http://www.f', 'https://mail.f', 'ftp://ftp.f']"
      ]
     },
     "execution_count": 152,
     "metadata": {},
     "output_type": "execute_result"
    }
   ],
   "source": [
    "p = re.compile(r\".+f\")\n",
    "p.findall(data)\n"
   ]
  },
  {
   "cell_type": "code",
   "execution_count": 153,
   "id": "3c64897c-e877-411c-992d-46c265109a6b",
   "metadata": {},
   "outputs": [
    {
     "data": {
      "text/plain": [
       "['forta.com', 'forta.com', 'ftp://ftp.forta.com']"
      ]
     },
     "execution_count": 153,
     "metadata": {},
     "output_type": "execute_result"
    }
   ],
   "source": [
    "p = re.compile(r\"(?=f).+\")\n",
    "p.findall(data)\n"
   ]
  },
  {
   "cell_type": "markdown",
   "id": "b63ecef6-9aa1-418a-bfed-8c35bb483e32",
   "metadata": {},
   "source": [
    "### 그리디 p320"
   ]
  },
  {
   "cell_type": "code",
   "execution_count": 156,
   "id": "a03909c9-13b3-4684-9fad-5b001fe86848",
   "metadata": {},
   "outputs": [
    {
     "name": "stdout",
     "output_type": "stream",
     "text": [
      "None\n",
      "<re.Match object; span=(0, 6), match='sososo'>\n",
      "<re.Match object; span=(0, 8), match='sosososo'>\n",
      "<re.Match object; span=(0, 10), match='sososososo'>\n"
     ]
    }
   ],
   "source": [
    "data = [\"soso\", \"sososo\", \"sosososo\", \"sososososo\"] \n",
    "p = re.compile(r'(so){3,5}')\n",
    "for i  in data:\n",
    "    print(p.search(i))"
   ]
  },
  {
   "cell_type": "code",
   "execution_count": 157,
   "id": "1af077fd-f83c-4835-ab5a-ed0355f256df",
   "metadata": {},
   "outputs": [
    {
     "name": "stdout",
     "output_type": "stream",
     "text": [
      "None\n",
      "<re.Match object; span=(0, 6), match='sososo'>\n",
      "<re.Match object; span=(0, 6), match='sososo'>\n",
      "<re.Match object; span=(0, 6), match='sososo'>\n"
     ]
    }
   ],
   "source": [
    "data = [\"soso\", \"sososo\", \"sosososo\", \"sososososo\"] \n",
    "p = re.compile(r'(so){3,5}?')\n",
    "for i  in data:\n",
    "    print(p.search(i))"
   ]
  },
  {
   "cell_type": "code",
   "execution_count": null,
   "id": "3769a816-ecf4-41d4-b455-2bfc2c4059af",
   "metadata": {},
   "outputs": [],
   "source": []
  }
 ],
 "metadata": {
  "kernelspec": {
   "display_name": "Python 3 (ipykernel)",
   "language": "python",
   "name": "python3"
  },
  "language_info": {
   "codemirror_mode": {
    "name": "ipython",
    "version": 3
   },
   "file_extension": ".py",
   "mimetype": "text/x-python",
   "name": "python",
   "nbconvert_exporter": "python",
   "pygments_lexer": "ipython3",
   "version": "3.10.6"
  }
 },
 "nbformat": 4,
 "nbformat_minor": 5
}
