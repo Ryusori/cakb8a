{
 "cells": [
  {
   "cell_type": "markdown",
   "id": "5845bc51-94a4-4e30-ad0d-138b1af8385e",
   "metadata": {},
   "source": [
    "## 9.16일 문제 복습"
   ]
  },
  {
   "cell_type": "code",
   "execution_count": 5,
   "id": "7ca8a491-a4a9-4cae-b3e9-e7f9e79f1e29",
   "metadata": {},
   "outputs": [
    {
     "name": "stdout",
     "output_type": "stream",
     "text": [
      "A A AA AAA AAAA AAAAA AaAbAcA AAaA "
     ]
    }
   ],
   "source": [
    "#1\n",
    "#9.14일 19번 문제\n",
    "\n",
    "import re\n",
    "li=[\" \",\"1\",\"12\",\"123\",\"1234\",\"abc\",\"1a\"]\n",
    "for string in li:\n",
    "    print(re.sub(r\"[0-9]?\", \"A\",string), end=\" \")"
   ]
  },
  {
   "cell_type": "code",
   "execution_count": 9,
   "id": "2fe83824-b51b-432c-954b-c4c2dca9d238",
   "metadata": {},
   "outputs": [
    {
     "data": {
      "text/plain": [
       "array([44, 46, 74, 76])"
      ]
     },
     "execution_count": 9,
     "metadata": {},
     "output_type": "execute_result"
    }
   ],
   "source": [
    "#2\n",
    "#9.16일 468 문제\n",
    "#(1)\n",
    "\n",
    "import numpy as np\n",
    "a = np.arange(1,101).reshape((10, 10)) \n",
    "a[[4, 4, 7,7 ], [3,5,3,5]] "
   ]
  },
  {
   "cell_type": "code",
   "execution_count": 13,
   "id": "b918248f-1ca6-45f8-bec9-1663d10b4278",
   "metadata": {},
   "outputs": [
    {
     "data": {
      "text/plain": [
       "array([[44, 46],\n",
       "       [74, 76]])"
      ]
     },
     "execution_count": 13,
     "metadata": {},
     "output_type": "execute_result"
    }
   ],
   "source": [
    "#(2)\n",
    "\n",
    "import numpy as np\n",
    "x = np.arange(1, 101).reshape(10, 10)\n",
    "x[4::3, 3:6:2] "
   ]
  },
  {
   "cell_type": "code",
   "execution_count": 15,
   "id": "e4401486-7955-4c0c-8ff3-8bbb00154160",
   "metadata": {},
   "outputs": [
    {
     "data": {
      "text/plain": [
       "array([ 7, 18, 29, 40])"
      ]
     },
     "execution_count": 15,
     "metadata": {},
     "output_type": "execute_result"
    }
   ],
   "source": [
    "#기타 문제\n",
    "\n",
    "import numpy as np\n",
    "a = np.arange(1, 101).reshape(10, 10)\n",
    "a[[0,1,2,3 ], [6,7,8,9]] "
   ]
  },
  {
   "cell_type": "code",
   "execution_count": 20,
   "id": "b8c314c1-3082-4177-adf3-0a3c33834259",
   "metadata": {},
   "outputs": [
    {
     "data": {
      "text/plain": [
       "['hello world']"
      ]
     },
     "execution_count": 20,
     "metadata": {},
     "output_type": "execute_result"
    }
   ],
   "source": [
    "#3. hello world만 출력.\n",
    "#9.16 191번 문제\n",
    "\n",
    "data = '''\n",
    "  <head>\n",
    "    <title>hello world</title>\n",
    "  </head>\n",
    "''' \n",
    "p = re.compile(\"(?<=>).+(?=<)\")\n",
    "p.findall(data)"
   ]
  },
  {
   "cell_type": "code",
   "execution_count": 24,
   "id": "3a1e59f8-4c05-451b-9d26-47322374b610",
   "metadata": {},
   "outputs": [
    {
     "data": {
      "text/plain": [
       "'\\n  <head>\\n    <title>hello world</title>\\n  </head>\\n'"
      ]
     },
     "execution_count": 24,
     "metadata": {},
     "output_type": "execute_result"
    }
   ],
   "source": [
    "data"
   ]
  },
  {
   "cell_type": "code",
   "execution_count": 33,
   "id": "a9469300-b8a7-4b73-8502-eab6b190d521",
   "metadata": {},
   "outputs": [
    {
     "data": {
      "text/plain": [
       "array([[ 0,  2,  4],\n",
       "       [ 6,  8, 10],\n",
       "       [12, 14, 16],\n",
       "       [18, 20, 22],\n",
       "       [24, 26, 28],\n",
       "       [30, 32, 34]])"
      ]
     },
     "execution_count": 33,
     "metadata": {},
     "output_type": "execute_result"
    }
   ],
   "source": [
    "#4\n",
    "#1~35로 구성된 6*6빙고판을 만들고 짝수만 출력하시오\n",
    "\n",
    "a = np.arange(36).reshape(6,6)\n",
    "a[:, 0::2] "
   ]
  },
  {
   "cell_type": "code",
   "execution_count": 40,
   "id": "501162db-0378-49c0-8f11-8cc50c41484f",
   "metadata": {},
   "outputs": [
    {
     "data": {
      "text/plain": [
       "array([[ 1,  3,  5],\n",
       "       [ 7,  9, 11],\n",
       "       [13, 15, 17],\n",
       "       [19, 21, 23],\n",
       "       [25, 27, 29],\n",
       "       [31, 33, 35]])"
      ]
     },
     "execution_count": 40,
     "metadata": {},
     "output_type": "execute_result"
    }
   ],
   "source": [
    "#5\n",
    "#1~35로 구성된 6*6빙고판을 만들고 홀수만 출력하시오\n",
    "\n",
    "a = np.arange(36).reshape(6,6)\n",
    "a[:,1::2]"
   ]
  },
  {
   "cell_type": "code",
   "execution_count": 50,
   "id": "69b774d6-9ffc-44da-b1a1-4b6804e402a8",
   "metadata": {},
   "outputs": [
    {
     "data": {
      "text/plain": [
       "array([[[ 1,  2,  3,  4,  5,  6,  7,  8,  9, 10, 11],\n",
       "        [12, 13, 14, 15, 16, 17, 18, 19, 20, 21, 22],\n",
       "        [23, 24, 25, 26, 27, 28, 29, 30, 31, 32, 33]],\n",
       "\n",
       "       [[34, 35, 36, 37, 38, 39, 40, 41, 42, 43, 44],\n",
       "        [45, 46, 47, 48, 49, 50, 51, 52, 53, 54, 55],\n",
       "        [56, 57, 58, 59, 60, 61, 62, 63, 64, 65, 66]],\n",
       "\n",
       "       [[67, 68, 69, 70, 71, 72, 73, 74, 75, 76, 77],\n",
       "        [78, 79, 80, 81, 82, 83, 84, 85, 86, 87, 88],\n",
       "        [89, 90, 91, 92, 93, 94, 95, 96, 97, 98, 99]]])"
      ]
     },
     "execution_count": 50,
     "metadata": {},
     "output_type": "execute_result"
    }
   ],
   "source": [
    "#6\n",
    "#100로 구성된 100빙고판을 만들고 3차원 3행에 array를 출력하시오\n",
    "\n",
    "a = np.arange(1,100).reshape(3,3,-1)\n",
    "a"
   ]
  },
  {
   "cell_type": "code",
   "execution_count": 51,
   "id": "450a4a9a-a158-4378-97a5-779b23122480",
   "metadata": {},
   "outputs": [
    {
     "data": {
      "text/plain": [
       "'! i need'"
      ]
     },
     "execution_count": 51,
     "metadata": {},
     "output_type": "execute_result"
    }
   ],
   "source": [
    "a=\"hello python! i need python!\"\n",
    "a[-16:-8]"
   ]
  },
  {
   "cell_type": "code",
   "execution_count": 53,
   "id": "2564f5db-80c7-4604-bc21-68630874403d",
   "metadata": {},
   "outputs": [
    {
     "name": "stdout",
     "output_type": "stream",
     "text": [
      "('960101', '1041111')\n"
     ]
    }
   ],
   "source": [
    "a=\"960101-1041111\"\n",
    "i = re.compile(\"(\\d{6})[-](\\d{7})\")\n",
    "li = i.findall(a)\n",
    "for i in li:\n",
    "    print(i)"
   ]
  },
  {
   "cell_type": "code",
   "execution_count": 95,
   "id": "b773f470-0851-49ad-bef4-bea2095153c1",
   "metadata": {},
   "outputs": [
    {
     "data": {
      "text/plain": [
       "'축구#농구#배구#야구'"
      ]
     },
     "execution_count": 95,
     "metadata": {},
     "output_type": "execute_result"
    }
   ],
   "source": [
    "key='축구:농구:배구:야구'\n",
    "key.replace(':',\"#\")"
   ]
  },
  {
   "cell_type": "code",
   "execution_count": 57,
   "id": "55d90d36-61dc-4d27-a1d7-29f0c07d79ae",
   "metadata": {},
   "outputs": [
    {
     "data": {
      "text/plain": [
       "{'apple': '사과', 'banana': '포도', 'cherry': '체리'}"
      ]
     },
     "execution_count": 57,
     "metadata": {},
     "output_type": "execute_result"
    }
   ],
   "source": [
    "a = {\"apple\" : \"사과\", \"banana\" : \"바나나\" , \"cherry\" : \"체리\" }\n",
    "a[\"banana\"]=\"포도\"\n",
    "a"
   ]
  },
  {
   "cell_type": "code",
   "execution_count": 74,
   "id": "8ddc45b3-5f17-4f5f-be26-f870c162226d",
   "metadata": {},
   "outputs": [
    {
     "name": "stdout",
     "output_type": "stream",
     "text": [
      "6\n"
     ]
    }
   ],
   "source": [
    "sum=0\n",
    "\n",
    "for i in range (1,4):\n",
    "   sum = sum + i \n",
    "print(sum)    \n",
    "    \n",
    "    \n"
   ]
  },
  {
   "cell_type": "code",
   "execution_count": 77,
   "id": "f762d491-959a-4b24-9dae-984db912a0f9",
   "metadata": {},
   "outputs": [
    {
     "data": {
      "text/plain": [
       "[3, 6, 9, 12, 15]"
      ]
     },
     "execution_count": 77,
     "metadata": {},
     "output_type": "execute_result"
    }
   ],
   "source": [
    "list(map(lambda x : 3*x,[1,2,3,4,5]))"
   ]
  },
  {
   "cell_type": "code",
   "execution_count": 81,
   "id": "3ef21e24-a96f-4f6c-89c7-e0cf2be57d1e",
   "metadata": {},
   "outputs": [
    {
     "name": "stdout",
     "output_type": "stream",
     "text": [
      "3\n"
     ]
    }
   ],
   "source": [
    "class FirstClass :\n",
    "    def __init__(self, number):\n",
    "        self.number = number\n",
    "    \n",
    "    def printNumber(self):\n",
    "        return self.number\n",
    "a = FirstClass(3)\n",
    "print(a.printNumber())"
   ]
  },
  {
   "cell_type": "code",
   "execution_count": 82,
   "id": "90d57b64-d9b0-4634-8927-de39fa0bee99",
   "metadata": {},
   "outputs": [
    {
     "name": "stdout",
     "output_type": "stream",
     "text": [
      "[2, 6, 10]\n"
     ]
    }
   ],
   "source": [
    "numbers= [1,2,3,4,5]\n",
    "a= []\n",
    "for n in numbers:\n",
    "    if n%2 ==1:\n",
    "        a.append(n*2)\n",
    "print(a) "
   ]
  },
  {
   "cell_type": "code",
   "execution_count": 83,
   "id": "6889458b-b013-41cd-a1df-bc0333841813",
   "metadata": {},
   "outputs": [
    {
     "name": "stdout",
     "output_type": "stream",
     "text": [
      "2\n"
     ]
    }
   ],
   "source": [
    "class Class_A :\n",
    "    def func_A(self) :\n",
    "        return 1\n",
    "class Class_B(Class_A):\n",
    "    def func_A(self):\n",
    "        return 2\n",
    "b = Class_B()\n",
    "print(b.func_A())"
   ]
  },
  {
   "cell_type": "code",
   "execution_count": 230,
   "id": "03a551c2-5927-4a72-9e0e-7bc7e2d980be",
   "metadata": {},
   "outputs": [
    {
     "data": {
      "text/plain": [
       "re.compile(r'\\d{6}[-][34]\\d{6}', re.UNICODE)"
      ]
     },
     "execution_count": 230,
     "metadata": {},
     "output_type": "execute_result"
    }
   ],
   "source": [
    "data = '950302-355585'\n",
    "import re\n",
    "p = re.compile(\"\\d{6}[-][34]\\d{6}\")\n",
    "p.findall(data)\n",
    "p"
   ]
  },
  {
   "cell_type": "code",
   "execution_count": 91,
   "id": "38fdb543-8bd8-4a66-9dbf-37e26c867a8b",
   "metadata": {},
   "outputs": [
    {
     "data": {
      "text/plain": [
       "[True, False, True, True, True, False]"
      ]
     },
     "execution_count": 91,
     "metadata": {},
     "output_type": "execute_result"
    }
   ],
   "source": [
    "x= [1,-2, 3, 5, 8, -3]\n",
    "list(map(lambda x:x>0,x))"
   ]
  },
  {
   "cell_type": "code",
   "execution_count": 231,
   "id": "66d3700f-c9cf-43c5-bcf4-c2b65a6f99e6",
   "metadata": {},
   "outputs": [],
   "source": [
    "a=\"960101-1041111\""
   ]
  },
  {
   "cell_type": "markdown",
   "id": "27edfc5d-82a7-4a2e-992d-33ef1e9229e5",
   "metadata": {},
   "source": [
    "### array"
   ]
  },
  {
   "cell_type": "code",
   "execution_count": 100,
   "id": "1753d922-5e12-4a08-b83b-109a50698874",
   "metadata": {},
   "outputs": [
    {
     "name": "stdout",
     "output_type": "stream",
     "text": [
      "[1 2 3 4]\n"
     ]
    },
    {
     "data": {
      "text/plain": [
       "array([5, 6])"
      ]
     },
     "execution_count": 100,
     "metadata": {},
     "output_type": "execute_result"
    }
   ],
   "source": [
    "a=np.array([1,2,3,4])\n",
    "print(a)\n",
    "c= np.array([5,6])\n",
    "c"
   ]
  },
  {
   "cell_type": "code",
   "execution_count": 103,
   "id": "e0b4317b-f948-4c6a-a230-9fbcf3a654c1",
   "metadata": {},
   "outputs": [
    {
     "ename": "ValueError",
     "evalue": "operands could not be broadcast together with shapes (4,) (2,) ",
     "output_type": "error",
     "traceback": [
      "\u001b[1;31m---------------------------------------------------------------------------\u001b[0m",
      "\u001b[1;31mValueError\u001b[0m                                Traceback (most recent call last)",
      "Input \u001b[1;32mIn [103]\u001b[0m, in \u001b[0;36m<cell line: 1>\u001b[1;34m()\u001b[0m\n\u001b[1;32m----> 1\u001b[0m \u001b[43ma\u001b[49m\u001b[43m \u001b[49m\u001b[38;5;241;43m+\u001b[39;49m\u001b[43m \u001b[49m\u001b[43mnp\u001b[49m\u001b[38;5;241;43m.\u001b[39;49m\u001b[43marray\u001b[49m\u001b[43m(\u001b[49m\u001b[43m[\u001b[49m\u001b[38;5;241;43m1\u001b[39;49m\u001b[43m,\u001b[49m\u001b[38;5;241;43m2\u001b[39;49m\u001b[43m]\u001b[49m\u001b[43m)\u001b[49m\n",
      "\u001b[1;31mValueError\u001b[0m: operands could not be broadcast together with shapes (4,) (2,) "
     ]
    }
   ],
   "source": [
    "a + np.array([1,2])"
   ]
  },
  {
   "cell_type": "code",
   "execution_count": 106,
   "id": "17c0d330-663a-4637-9efc-de5ff3b9db6f",
   "metadata": {},
   "outputs": [
    {
     "data": {
      "text/plain": [
       "array([[1],\n",
       "       [2]])"
      ]
     },
     "execution_count": 106,
     "metadata": {},
     "output_type": "execute_result"
    }
   ],
   "source": [
    "np.array([[1],[2]])"
   ]
  },
  {
   "cell_type": "markdown",
   "id": "8dab5866-5440-49bb-ac65-6829961237ce",
   "metadata": {},
   "source": [
    "### linspace"
   ]
  },
  {
   "cell_type": "code",
   "execution_count": 107,
   "id": "1bd31934-c5a7-4f64-9c30-4323b20e2c84",
   "metadata": {},
   "outputs": [
    {
     "data": {
      "text/plain": [
       "array([ 1.,  2.,  3.,  4.,  5.,  6.,  7.,  8.,  9., 10.])"
      ]
     },
     "execution_count": 107,
     "metadata": {},
     "output_type": "execute_result"
    }
   ],
   "source": [
    "np.linspace(1,10,10)"
   ]
  },
  {
   "cell_type": "code",
   "execution_count": 109,
   "id": "a26e8b7b-4d59-4d4b-86f9-bc34ed781be4",
   "metadata": {},
   "outputs": [
    {
     "data": {
      "text/plain": [
       "array([1., 3., 5., 7., 9.])"
      ]
     },
     "execution_count": 109,
     "metadata": {},
     "output_type": "execute_result"
    }
   ],
   "source": [
    "np.linspace(1,9,5)"
   ]
  },
  {
   "cell_type": "markdown",
   "id": "df5952e6-6532-4efd-b4b5-1dc7e3de15d4",
   "metadata": {},
   "source": [
    "### ones"
   ]
  },
  {
   "cell_type": "code",
   "execution_count": 233,
   "id": "6d74c8a0-db8c-466d-8c5a-f8a2105700fc",
   "metadata": {},
   "outputs": [
    {
     "data": {
      "text/plain": [
       "array([[1, 1, 1],\n",
       "       [1, 1, 1]], dtype=int16)"
      ]
     },
     "execution_count": 233,
     "metadata": {},
     "output_type": "execute_result"
    }
   ],
   "source": [
    "#1로 채워라\n",
    "np.ones((2,3),dtype=\"int16\")"
   ]
  },
  {
   "cell_type": "markdown",
   "id": "745220e7-686d-4d9c-b8f0-76cfb78cccbf",
   "metadata": {},
   "source": [
    "### zeros"
   ]
  },
  {
   "cell_type": "code",
   "execution_count": 234,
   "id": "2f00a5b5-af7a-4222-bec0-990787dcd986",
   "metadata": {},
   "outputs": [
    {
     "data": {
      "text/plain": [
       "array([[0., 0., 0.],\n",
       "       [0., 0., 0.]])"
      ]
     },
     "execution_count": 234,
     "metadata": {},
     "output_type": "execute_result"
    }
   ],
   "source": [
    "#0으로 채워라\n",
    "np.zeros((2,3))"
   ]
  },
  {
   "cell_type": "markdown",
   "id": "2bfa7ce2-87cf-4322-ba92-bf9ad9850f29",
   "metadata": {},
   "source": [
    "### 희소행렬"
   ]
  },
  {
   "cell_type": "code",
   "execution_count": 235,
   "id": "44704e55-6df5-41e2-87b7-ff95ec86eea9",
   "metadata": {},
   "outputs": [
    {
     "data": {
      "text/plain": [
       "array([[0., 0., 0., 0., 0., 0., 0., 0., 0., 0.],\n",
       "       [0., 0., 0., 0., 0., 0., 0., 0., 0., 0.],\n",
       "       [0., 0., 0., 0., 0., 0., 0., 0., 0., 0.],\n",
       "       [0., 0., 0., 1., 0., 0., 0., 0., 0., 0.],\n",
       "       [0., 0., 0., 0., 0., 0., 0., 0., 0., 0.],\n",
       "       [0., 0., 0., 0., 0., 0., 1., 0., 0., 0.],\n",
       "       [0., 0., 0., 0., 0., 0., 0., 0., 0., 0.],\n",
       "       [0., 0., 0., 0., 0., 0., 0., 0., 0., 0.],\n",
       "       [0., 0., 0., 0., 0., 0., 0., 0., 0., 0.],\n",
       "       [0., 0., 0., 0., 0., 0., 0., 0., 0., 0.]])"
      ]
     },
     "execution_count": 235,
     "metadata": {},
     "output_type": "execute_result"
    }
   ],
   "source": [
    "#sparse matrix (희소행렬)\n",
    "'''\n",
    "10*10: 대부분 0\n",
    "3행 3열 부분 1 \n",
    "5행 6열 부분 1 인 행렬 만들기\n",
    "'''\n",
    "\n",
    "zero = np.zeros((10,10))\n",
    "\n",
    "zero[3,3] = 1\n",
    "zero[5,6] = 1\n",
    "zero "
   ]
  },
  {
   "cell_type": "code",
   "execution_count": 115,
   "id": "54d0ff81-d525-497a-97f6-4c77c2ccd783",
   "metadata": {},
   "outputs": [
    {
     "data": {
      "text/plain": [
       "array([[3., 3., 3., 3., 3., 3., 3., 3., 3., 3.],\n",
       "       [3., 3., 3., 3., 3., 3., 3., 3., 3., 3.],\n",
       "       [3., 3., 3., 3., 3., 3., 3., 3., 3., 3.],\n",
       "       [3., 3., 3., 3., 3., 3., 3., 3., 3., 3.],\n",
       "       [3., 3., 3., 3., 3., 3., 3., 3., 3., 3.],\n",
       "       [3., 3., 3., 3., 3., 3., 3., 3., 3., 3.],\n",
       "       [3., 3., 3., 3., 3., 3., 3., 3., 3., 3.],\n",
       "       [3., 3., 3., 3., 3., 3., 3., 3., 3., 3.],\n",
       "       [3., 3., 3., 3., 3., 3., 3., 3., 3., 3.],\n",
       "       [3., 3., 3., 3., 3., 3., 3., 3., 3., 3.]])"
      ]
     },
     "execution_count": 115,
     "metadata": {},
     "output_type": "execute_result"
    }
   ],
   "source": [
    "#모든 원소가 3인 10*10행렬을 만드시오.\n",
    "a = np.ones((10,10))\n",
    "a * 3"
   ]
  },
  {
   "cell_type": "markdown",
   "id": "a22b3616-a412-471a-a105-d2a837ed2795",
   "metadata": {},
   "source": [
    "### np.full()"
   ]
  },
  {
   "cell_type": "code",
   "execution_count": 117,
   "id": "136ea3ee-ba0f-4631-aa27-9e74201c7e63",
   "metadata": {},
   "outputs": [
    {
     "data": {
      "text/plain": [
       "array([[3, 3, 3, 3, 3, 3, 3, 3, 3, 3],\n",
       "       [3, 3, 3, 3, 3, 3, 3, 3, 3, 3],\n",
       "       [3, 3, 3, 3, 3, 3, 3, 3, 3, 3],\n",
       "       [3, 3, 3, 3, 3, 3, 3, 3, 3, 3],\n",
       "       [3, 3, 3, 3, 3, 3, 3, 3, 3, 3],\n",
       "       [3, 3, 3, 3, 3, 3, 3, 3, 3, 3],\n",
       "       [3, 3, 3, 3, 3, 3, 3, 3, 3, 3],\n",
       "       [3, 3, 3, 3, 3, 3, 3, 3, 3, 3],\n",
       "       [3, 3, 3, 3, 3, 3, 3, 3, 3, 3],\n",
       "       [3, 3, 3, 3, 3, 3, 3, 3, 3, 3]])"
      ]
     },
     "execution_count": 117,
     "metadata": {},
     "output_type": "execute_result"
    }
   ],
   "source": [
    "np.full((10,10),3)"
   ]
  },
  {
   "cell_type": "markdown",
   "id": "2dc91d43-64b3-465f-ace6-9cabd29330e7",
   "metadata": {},
   "source": [
    "### np.identity()"
   ]
  },
  {
   "cell_type": "code",
   "execution_count": 118,
   "id": "b14f2bfb-fa3b-4b05-953e-b429997514ca",
   "metadata": {},
   "outputs": [
    {
     "data": {
      "text/plain": [
       "array([[1., 0., 0.],\n",
       "       [0., 1., 0.],\n",
       "       [0., 0., 1.]])"
      ]
     },
     "execution_count": 118,
     "metadata": {},
     "output_type": "execute_result"
    }
   ],
   "source": [
    "#단위행렬.\n",
    "np.identity(3)"
   ]
  },
  {
   "cell_type": "markdown",
   "id": "7195f060-300d-4209-84eb-6ef1d6491676",
   "metadata": {},
   "source": [
    "### np.eye()"
   ]
  },
  {
   "cell_type": "code",
   "execution_count": 121,
   "id": "9270f5cc-beab-41f9-a30c-3c639b09f66c",
   "metadata": {},
   "outputs": [
    {
     "data": {
      "text/plain": [
       "array([[1., 0., 0.],\n",
       "       [0., 1., 0.],\n",
       "       [0., 0., 1.]])"
      ]
     },
     "execution_count": 121,
     "metadata": {},
     "output_type": "execute_result"
    }
   ],
   "source": [
    "#행렬 맞지 않아도 나옴.\n",
    "np.eye(3)"
   ]
  },
  {
   "cell_type": "code",
   "execution_count": 120,
   "id": "5c99293a-1b1d-4f82-a291-bf7f004e45d3",
   "metadata": {},
   "outputs": [
    {
     "data": {
      "text/plain": [
       "array([[1., 0.],\n",
       "       [0., 1.],\n",
       "       [0., 0.]])"
      ]
     },
     "execution_count": 120,
     "metadata": {},
     "output_type": "execute_result"
    }
   ],
   "source": [
    "np.eye(3,2)"
   ]
  },
  {
   "cell_type": "markdown",
   "id": "7a9376de-db91-44e3-86cc-d5e7fd46ac50",
   "metadata": {},
   "source": [
    "### np.tile()"
   ]
  },
  {
   "cell_type": "code",
   "execution_count": 125,
   "id": "0a31ad19-1488-4328-bae4-28aff7cd16b3",
   "metadata": {},
   "outputs": [
    {
     "data": {
      "text/plain": [
       "array([[1, 2, 3, 1, 2, 3],\n",
       "       [1, 2, 3, 1, 2, 3],\n",
       "       [1, 2, 3, 1, 2, 3]])"
      ]
     },
     "execution_count": 125,
     "metadata": {},
     "output_type": "execute_result"
    }
   ],
   "source": [
    "#잘 쓰는 함수아님\n",
    "#3열 2번반복\n",
    "\n",
    "a=np.array=[1,2,3]\n",
    "np.tile(a,(3,2))"
   ]
  },
  {
   "cell_type": "markdown",
   "id": "5b8ff86f-af55-4d0e-8ab1-67f5b6dbb719",
   "metadata": {},
   "source": [
    "### 복사하는 방법"
   ]
  },
  {
   "cell_type": "code",
   "execution_count": 127,
   "id": "2f7c7dd6-caa9-488f-8d3d-88149c9547da",
   "metadata": {},
   "outputs": [],
   "source": [
    "a=[1,2,3,4]"
   ]
  },
  {
   "cell_type": "code",
   "execution_count": 128,
   "id": "f82c4456-08b7-4d26-b7bd-a2ae997ae330",
   "metadata": {},
   "outputs": [
    {
     "data": {
      "text/plain": [
       "[1, 2, 3, 4]"
      ]
     },
     "execution_count": 128,
     "metadata": {},
     "output_type": "execute_result"
    }
   ],
   "source": [
    "b=a\n",
    "b"
   ]
  },
  {
   "cell_type": "code",
   "execution_count": 129,
   "id": "e29e2c87-14c2-444f-909e-dd8ecfa8d901",
   "metadata": {},
   "outputs": [],
   "source": [
    "c=a.copy()"
   ]
  },
  {
   "cell_type": "code",
   "execution_count": 131,
   "id": "d94d54a5-05b1-45ca-8b24-55fa837b9bf8",
   "metadata": {},
   "outputs": [
    {
     "data": {
      "text/plain": [
       "[1, 2, 3, 4]"
      ]
     },
     "execution_count": 131,
     "metadata": {},
     "output_type": "execute_result"
    }
   ],
   "source": [
    "import copy\n",
    "d=copy.copy(a)\n",
    "d"
   ]
  },
  {
   "cell_type": "code",
   "execution_count": 132,
   "id": "08c3a201-4402-4f88-89dc-03e57ae6f5c2",
   "metadata": {},
   "outputs": [
    {
     "data": {
      "text/plain": [
       "[100, 2, 3, 4]"
      ]
     },
     "execution_count": 132,
     "metadata": {},
     "output_type": "execute_result"
    }
   ],
   "source": [
    "b[0]=100\n",
    "b"
   ]
  },
  {
   "cell_type": "code",
   "execution_count": 133,
   "id": "f571bd33-ecce-4b33-b7de-dd26a32a2f00",
   "metadata": {},
   "outputs": [
    {
     "name": "stdout",
     "output_type": "stream",
     "text": [
      "1646919817024\n",
      "1646919817024\n",
      "1646919634880\n",
      "1646919147392\n"
     ]
    }
   ],
   "source": [
    "print(id(a))\n",
    "print(id(b))\n",
    "print(id(c))\n",
    "print(id(d))"
   ]
  },
  {
   "cell_type": "code",
   "execution_count": 236,
   "id": "b8f1693e-bbf9-44de-97a4-93b77ed73c50",
   "metadata": {},
   "outputs": [
    {
     "ename": "TypeError",
     "evalue": "'list' object is not callable",
     "output_type": "error",
     "traceback": [
      "\u001b[1;31m---------------------------------------------------------------------------\u001b[0m",
      "\u001b[1;31mTypeError\u001b[0m                                 Traceback (most recent call last)",
      "Input \u001b[1;32mIn [236]\u001b[0m, in \u001b[0;36m<cell line: 2>\u001b[1;34m()\u001b[0m\n\u001b[0;32m      1\u001b[0m \u001b[38;5;28;01mimport\u001b[39;00m \u001b[38;5;21;01mnumpy\u001b[39;00m \u001b[38;5;28;01mas\u001b[39;00m \u001b[38;5;21;01mnp\u001b[39;00m\n\u001b[1;32m----> 2\u001b[0m a\u001b[38;5;241m=\u001b[39m \u001b[43mnp\u001b[49m\u001b[38;5;241;43m.\u001b[39;49m\u001b[43marray\u001b[49m\u001b[43m(\u001b[49m\u001b[43m[\u001b[49m\u001b[38;5;241;43m1\u001b[39;49m\u001b[43m,\u001b[49m\u001b[38;5;241;43m2\u001b[39;49m\u001b[43m,\u001b[49m\u001b[38;5;241;43m3\u001b[39;49m\u001b[43m,\u001b[49m\u001b[38;5;241;43m4\u001b[39;49m\u001b[43m]\u001b[49m\u001b[43m)\u001b[49m\n\u001b[0;32m      3\u001b[0m a\n",
      "\u001b[1;31mTypeError\u001b[0m: 'list' object is not callable"
     ]
    }
   ],
   "source": [
    "import numpy as np\n",
    "a= np.array([1,2,3,4])\n",
    "a"
   ]
  },
  {
   "cell_type": "code",
   "execution_count": 227,
   "id": "7be0bb5a-5c46-4f08-8cec-85a5a0a2fe6c",
   "metadata": {},
   "outputs": [
    {
     "ename": "ModuleNotFoundError",
     "evalue": "No module named 'list'",
     "output_type": "error",
     "traceback": [
      "\u001b[1;31m---------------------------------------------------------------------------\u001b[0m",
      "\u001b[1;31mModuleNotFoundError\u001b[0m                       Traceback (most recent call last)",
      "Input \u001b[1;32mIn [227]\u001b[0m, in \u001b[0;36m<cell line: 1>\u001b[1;34m()\u001b[0m\n\u001b[1;32m----> 1\u001b[0m \u001b[38;5;28;01mimport\u001b[39;00m \u001b[38;5;21;01mlist\u001b[39;00m\n",
      "\u001b[1;31mModuleNotFoundError\u001b[0m: No module named 'list'"
     ]
    }
   ],
   "source": [
    "import list"
   ]
  },
  {
   "cell_type": "code",
   "execution_count": 137,
   "id": "2d7aba61-3c1d-477d-bbde-14fce85be148",
   "metadata": {},
   "outputs": [],
   "source": [
    "#View"
   ]
  },
  {
   "cell_type": "markdown",
   "id": "ce75b70d-0f2b-478c-a4be-acd435eea156",
   "metadata": {},
   "source": [
    "#### 문제{65}"
   ]
  },
  {
   "cell_type": "code",
   "execution_count": 237,
   "id": "58403ee1-e588-49b8-ba6d-f0016a658305",
   "metadata": {},
   "outputs": [
    {
     "data": {
      "text/plain": [
       "array([1, 3, 5, 7])"
      ]
     },
     "execution_count": 237,
     "metadata": {},
     "output_type": "execute_result"
    }
   ],
   "source": [
    "np.arange(1,9,2)"
   ]
  },
  {
   "cell_type": "code",
   "execution_count": 238,
   "id": "aa9fb254-4b99-4e60-a438-73b18c46badd",
   "metadata": {},
   "outputs": [
    {
     "data": {
      "text/plain": [
       "array([0. , 0.2, 0.4, 0.6, 0.8, 1. ])"
      ]
     },
     "execution_count": 238,
     "metadata": {},
     "output_type": "execute_result"
    }
   ],
   "source": [
    "np.linspace(0,1,6)"
   ]
  },
  {
   "cell_type": "code",
   "execution_count": 141,
   "id": "09a1d25c-6e3a-4b36-9c45-907d1dde7bdf",
   "metadata": {},
   "outputs": [
    {
     "data": {
      "text/plain": [
       "array([[1, 1, 1],\n",
       "       [1, 1, 1],\n",
       "       [1, 1, 1]])"
      ]
     },
     "execution_count": 141,
     "metadata": {},
     "output_type": "execute_result"
    }
   ],
   "source": [
    "np.ones((3,3),int)"
   ]
  },
  {
   "cell_type": "code",
   "execution_count": 142,
   "id": "bc0a191c-9faa-4fd6-bdf4-5438d26960b3",
   "metadata": {},
   "outputs": [],
   "source": [
    "#copy와 view의 차이는??"
   ]
  },
  {
   "cell_type": "markdown",
   "id": "e225aa8f-1f38-4ba3-99de-190569665635",
   "metadata": {},
   "source": [
    "### 배열의 결합 stack\n",
    "- vstack\n",
    "- hstack \n",
    "- dstack"
   ]
  },
  {
   "cell_type": "markdown",
   "id": "48d8f701-64d3-4b62-a944-3a2f73e41278",
   "metadata": {},
   "source": [
    "### vstack{68}"
   ]
  },
  {
   "cell_type": "code",
   "execution_count": 241,
   "id": "87f46416-05fd-4287-91bb-c809112078a1",
   "metadata": {},
   "outputs": [],
   "source": [
    "[0,10,20,30,40,50,60,70,80,90]\n",
    "\n",
    "a=np.arange(10)*10\n",
    "b=np.arange(10)*20"
   ]
  },
  {
   "cell_type": "code",
   "execution_count": 242,
   "id": "dcbcd5b6-f556-4d70-a45f-3984acf56eaf",
   "metadata": {},
   "outputs": [
    {
     "data": {
      "text/plain": [
       "array([[  0,  10,  20,  30,  40,  50,  60,  70,  80,  90],\n",
       "       [  0,  20,  40,  60,  80, 100, 120, 140, 160, 180]])"
      ]
     },
     "execution_count": 242,
     "metadata": {},
     "output_type": "execute_result"
    }
   ],
   "source": [
    "np.vstack((a,b))"
   ]
  },
  {
   "cell_type": "markdown",
   "id": "384d9423-88ad-41b2-b10b-b08d82d51996",
   "metadata": {},
   "source": [
    "### hstack{69}"
   ]
  },
  {
   "cell_type": "code",
   "execution_count": 243,
   "id": "61527bee-10fa-44eb-ab04-ae0c6a4138ae",
   "metadata": {},
   "outputs": [
    {
     "data": {
      "text/plain": [
       "array([  0,  10,  20,  30,  40,  50,  60,  70,  80,  90,   0,  20,  40,\n",
       "        60,  80, 100, 120, 140, 160, 180])"
      ]
     },
     "execution_count": 243,
     "metadata": {},
     "output_type": "execute_result"
    }
   ],
   "source": [
    "np.hstack((a,b))"
   ]
  },
  {
   "cell_type": "code",
   "execution_count": 244,
   "id": "c1e60d5f-70f1-46fd-bc1f-44104a38cac5",
   "metadata": {},
   "outputs": [
    {
     "data": {
      "text/plain": [
       "(20,)"
      ]
     },
     "execution_count": 244,
     "metadata": {},
     "output_type": "execute_result"
    }
   ],
   "source": [
    "np.hstack((a,b)).shape"
   ]
  },
  {
   "cell_type": "markdown",
   "id": "b5910f9d-369b-4a4b-bf46-7d2cd41c2945",
   "metadata": {},
   "source": [
    "### dstack{70}"
   ]
  },
  {
   "cell_type": "code",
   "execution_count": 245,
   "id": "ba2ff775-9c34-4ec0-9839-2ee45cdcbca7",
   "metadata": {},
   "outputs": [
    {
     "data": {
      "text/plain": [
       "array([[[1, 2, 3]]])"
      ]
     },
     "execution_count": 245,
     "metadata": {},
     "output_type": "execute_result"
    }
   ],
   "source": [
    "a=np.dstack([[1],[2],[3]])\n",
    "a.shape\n",
    "a"
   ]
  },
  {
   "cell_type": "code",
   "execution_count": 246,
   "id": "72e8b21c-5f03-422c-945f-720433cbc521",
   "metadata": {},
   "outputs": [
    {
     "data": {
      "text/plain": [
       "array([[[1, 2, 3]]])"
      ]
     },
     "execution_count": 246,
     "metadata": {},
     "output_type": "execute_result"
    }
   ],
   "source": [
    "b= np.dstack ( [ [1],[2],[3] ] )\n",
    "b.shape\n",
    "b"
   ]
  },
  {
   "cell_type": "code",
   "execution_count": 248,
   "id": "71492cde-3270-42ed-bdd0-7b0923a1a57c",
   "metadata": {},
   "outputs": [
    {
     "data": {
      "text/plain": [
       "array([[[1, 2, 3],\n",
       "        [1, 2, 3]]])"
      ]
     },
     "execution_count": 248,
     "metadata": {},
     "output_type": "execute_result"
    }
   ],
   "source": [
    "#2차원\n",
    "np.hstack((a,b))"
   ]
  },
  {
   "cell_type": "code",
   "execution_count": 247,
   "id": "c9fa29c7-1da1-48d1-b54d-9597a69fc19c",
   "metadata": {},
   "outputs": [
    {
     "data": {
      "text/plain": [
       "array([[[1, 2, 3, 1, 2, 3]]])"
      ]
     },
     "execution_count": 247,
     "metadata": {},
     "output_type": "execute_result"
    }
   ],
   "source": [
    "#3차원\n",
    "np.dstack((a,b))"
   ]
  },
  {
   "cell_type": "markdown",
   "id": "cd7cb272-d750-4048-9a73-5ef0ecdd9678",
   "metadata": {},
   "source": [
    "## 배열의 분리 spliting\n",
    "- 수평분리 hsplit\n",
    "- 수직분리 vsplit"
   ]
  },
  {
   "cell_type": "code",
   "execution_count": 251,
   "id": "181595ff-9a9c-4a37-a556-0557b91e99fc",
   "metadata": {},
   "outputs": [
    {
     "data": {
      "text/plain": [
       "array([[ 0,  1,  2,  3,  4,  5,  6,  7],\n",
       "       [ 8,  9, 10, 11, 12, 13, 14, 15],\n",
       "       [16, 17, 18, 19, 20, 21, 22, 23],\n",
       "       [24, 25, 26, 27, 28, 29, 30, 31]])"
      ]
     },
     "execution_count": 251,
     "metadata": {},
     "output_type": "execute_result"
    }
   ],
   "source": [
    "a=np.arange(32).reshape(4,8)\n",
    "a"
   ]
  },
  {
   "cell_type": "code",
   "execution_count": 172,
   "id": "983b5241-8906-4c22-807f-d04bbb057457",
   "metadata": {},
   "outputs": [
    {
     "data": {
      "text/plain": [
       "[array([[ 0,  1,  2,  3],\n",
       "        [ 8,  9, 10, 11],\n",
       "        [16, 17, 18, 19],\n",
       "        [24, 25, 26, 27]]),\n",
       " array([[ 4,  5,  6,  7],\n",
       "        [12, 13, 14, 15],\n",
       "        [20, 21, 22, 23],\n",
       "        [28, 29, 30, 31]])]"
      ]
     },
     "execution_count": 172,
     "metadata": {},
     "output_type": "execute_result"
    }
   ],
   "source": [
    "np.hsplit(a,2)"
   ]
  },
  {
   "cell_type": "code",
   "execution_count": 173,
   "id": "6befbdc6-0533-406c-969c-1a77f4e7ce9a",
   "metadata": {},
   "outputs": [
    {
     "data": {
      "text/plain": [
       "[array([[ 0,  1,  2,  3,  4,  5,  6,  7],\n",
       "        [ 8,  9, 10, 11, 12, 13, 14, 15]]),\n",
       " array([[16, 17, 18, 19, 20, 21, 22, 23],\n",
       "        [24, 25, 26, 27, 28, 29, 30, 31]])]"
      ]
     },
     "execution_count": 173,
     "metadata": {},
     "output_type": "execute_result"
    }
   ],
   "source": [
    "np.vsplit(a,2)"
   ]
  },
  {
   "cell_type": "markdown",
   "id": "1118cbe9-4acd-4287-8428-1348d333a689",
   "metadata": {},
   "source": [
    "## 모양을 바꾸는 함수\n",
    "- reshape\n",
    "- flatten\n",
    "- ravel"
   ]
  },
  {
   "cell_type": "code",
   "execution_count": 252,
   "id": "49162507-1a9c-41a5-bb2b-b5e90a297300",
   "metadata": {},
   "outputs": [
    {
     "data": {
      "text/plain": [
       "array([[ 0,  1,  2,  3,  4,  5,  6,  7],\n",
       "       [ 8,  9, 10, 11, 12, 13, 14, 15],\n",
       "       [16, 17, 18, 19, 20, 21, 22, 23],\n",
       "       [24, 25, 26, 27, 28, 29, 30, 31]])"
      ]
     },
     "execution_count": 252,
     "metadata": {},
     "output_type": "execute_result"
    }
   ],
   "source": [
    "a=np.arange(32).reshape(4,8)\n",
    "a"
   ]
  },
  {
   "cell_type": "code",
   "execution_count": 253,
   "id": "20f909d8-6195-4f9a-a001-c86c0eb76da4",
   "metadata": {},
   "outputs": [
    {
     "data": {
      "text/plain": [
       "(4, 8)"
      ]
     },
     "execution_count": 253,
     "metadata": {},
     "output_type": "execute_result"
    }
   ],
   "source": [
    "a.shape"
   ]
  },
  {
   "cell_type": "code",
   "execution_count": 254,
   "id": "c11e2a33-d22e-45df-bfa6-3ce8278ebee6",
   "metadata": {},
   "outputs": [
    {
     "data": {
      "text/plain": [
       "32"
      ]
     },
     "execution_count": 254,
     "metadata": {},
     "output_type": "execute_result"
    }
   ],
   "source": [
    "a.size"
   ]
  },
  {
   "cell_type": "code",
   "execution_count": 255,
   "id": "7f22f58d-5bed-4bce-98fb-40aceb3fe74e",
   "metadata": {},
   "outputs": [
    {
     "data": {
      "text/plain": [
       "array([ 0,  1,  2,  3,  4,  5,  6,  7,  8,  9, 10, 11, 12, 13, 14, 15, 16,\n",
       "       17, 18, 19, 20, 21, 22, 23, 24, 25, 26, 27, 28, 29, 30, 31])"
      ]
     },
     "execution_count": 255,
     "metadata": {},
     "output_type": "execute_result"
    }
   ],
   "source": [
    "#한줄로 쑥 나옴\n",
    "a.flatten()"
   ]
  },
  {
   "cell_type": "code",
   "execution_count": 181,
   "id": "53488365-64c8-4ae8-af3a-b986040844f3",
   "metadata": {},
   "outputs": [
    {
     "data": {
      "text/plain": [
       "(32,)"
      ]
     },
     "execution_count": 181,
     "metadata": {},
     "output_type": "execute_result"
    }
   ],
   "source": [
    "a.flatten().shape"
   ]
  },
  {
   "cell_type": "code",
   "execution_count": 182,
   "id": "b4136457-c50c-49c3-936b-3f9bcb5cc1f7",
   "metadata": {},
   "outputs": [],
   "source": [
    "#ravel은view 비슷하다."
   ]
  },
  {
   "cell_type": "markdown",
   "id": "81ffd0c4-9dd3-425e-b4cc-919618c1a327",
   "metadata": {},
   "source": [
    "## transpose 행과열의 위치를 바꾼다.\n",
    "- a.T"
   ]
  },
  {
   "cell_type": "code",
   "execution_count": 187,
   "id": "051efcd5-661f-4a45-8853-824764b5df9f",
   "metadata": {},
   "outputs": [
    {
     "data": {
      "text/plain": [
       "array([[1, 2],\n",
       "       [3, 4],\n",
       "       [5, 6]])"
      ]
     },
     "execution_count": 187,
     "metadata": {},
     "output_type": "execute_result"
    }
   ],
   "source": [
    "a=np.arange(1,7).reshape(3,2)\n",
    "a"
   ]
  },
  {
   "cell_type": "code",
   "execution_count": 188,
   "id": "344c4419-3a84-4f69-9f4f-f7d1065516f3",
   "metadata": {},
   "outputs": [
    {
     "data": {
      "text/plain": [
       "array([[1, 3, 5],\n",
       "       [2, 4, 6]])"
      ]
     },
     "execution_count": 188,
     "metadata": {},
     "output_type": "execute_result"
    }
   ],
   "source": [
    "a.T"
   ]
  },
  {
   "cell_type": "code",
   "execution_count": 189,
   "id": "1c396a73-9d57-4177-8ffb-0572b2a51446",
   "metadata": {},
   "outputs": [
    {
     "data": {
      "text/plain": [
       "array([[1, 3, 5],\n",
       "       [2, 4, 6]])"
      ]
     },
     "execution_count": 189,
     "metadata": {},
     "output_type": "execute_result"
    }
   ],
   "source": [
    "np.transpose(a)"
   ]
  },
  {
   "cell_type": "markdown",
   "id": "5518789f-d8f2-4bcc-9522-ca5b729756d3",
   "metadata": {},
   "source": [
    "#### 문제{83}"
   ]
  },
  {
   "cell_type": "code",
   "execution_count": 271,
   "id": "dc5e0c6c-b1dd-4661-80c9-e9fd131dbb23",
   "metadata": {},
   "outputs": [
    {
     "data": {
      "text/plain": [
       "array([[1, 2, 3],\n",
       "       [4, 5, 6]])"
      ]
     },
     "execution_count": 271,
     "metadata": {},
     "output_type": "execute_result"
    }
   ],
   "source": [
    "#1문제\n",
    "#(1)\n",
    "\n",
    "a = [1,2,3] \n",
    "b= [4,5,6]\n",
    "np.vstack([a,b])"
   ]
  },
  {
   "cell_type": "code",
   "execution_count": 272,
   "id": "45afe631-82c8-4a63-a925-1a2896d2cb2e",
   "metadata": {},
   "outputs": [
    {
     "ename": "TypeError",
     "evalue": "'list' object is not callable",
     "output_type": "error",
     "traceback": [
      "\u001b[1;31m---------------------------------------------------------------------------\u001b[0m",
      "\u001b[1;31mTypeError\u001b[0m                                 Traceback (most recent call last)",
      "Input \u001b[1;32mIn [272]\u001b[0m, in \u001b[0;36m<cell line: 4>\u001b[1;34m()\u001b[0m\n\u001b[0;32m      1\u001b[0m \u001b[38;5;66;03m#1문제\u001b[39;00m\n\u001b[0;32m      2\u001b[0m \u001b[38;5;66;03m#(2)\u001b[39;00m\n\u001b[1;32m----> 4\u001b[0m a \u001b[38;5;241m=\u001b[39m \u001b[43mnp\u001b[49m\u001b[38;5;241;43m.\u001b[39;49m\u001b[43marray\u001b[49m\u001b[43m(\u001b[49m\u001b[43m[\u001b[49m\u001b[38;5;241;43m1\u001b[39;49m\u001b[43m,\u001b[49m\u001b[38;5;241;43m2\u001b[39;49m\u001b[43m,\u001b[49m\u001b[38;5;241;43m3\u001b[39;49m\u001b[43m]\u001b[49m\u001b[43m)\u001b[49m \n\u001b[0;32m      5\u001b[0m b\u001b[38;5;241m=\u001b[39m np\u001b[38;5;241m.\u001b[39marray([\u001b[38;5;241m4\u001b[39m,\u001b[38;5;241m5\u001b[39m,\u001b[38;5;241m6\u001b[39m])\n\u001b[0;32m      6\u001b[0m np\u001b[38;5;241m.\u001b[39mhstack([a,b])\n",
      "\u001b[1;31mTypeError\u001b[0m: 'list' object is not callable"
     ]
    }
   ],
   "source": [
    "#1문제\n",
    "#(2)\n",
    "\n",
    "a = np.array([1,2,3]) \n",
    "b= np.array([4,5,6])\n",
    "np.hstack([a,b])\n"
   ]
  },
  {
   "cell_type": "code",
   "execution_count": 266,
   "id": "2a5af949-4df3-40f4-862b-6baee298ef2b",
   "metadata": {},
   "outputs": [],
   "source": [
    "#flatten,ravel의 차이는?"
   ]
  },
  {
   "cell_type": "code",
   "execution_count": 265,
   "id": "9acb0e61-6944-499e-98c4-852d03059c7e",
   "metadata": {},
   "outputs": [
    {
     "data": {
      "text/plain": [
       "array([[1, 3],\n",
       "       [2, 4]])"
      ]
     },
     "execution_count": 265,
     "metadata": {},
     "output_type": "execute_result"
    }
   ],
   "source": [
    "#3번 문제\n",
    "\n",
    "a = np.arange(1,5).reshape(2,2)\n",
    "a.T "
   ]
  },
  {
   "cell_type": "markdown",
   "id": "2c9933a9-a6e8-43bc-961c-11defd9145ff",
   "metadata": {},
   "source": [
    "## 비교 정렬 comparison {84}\n",
    "\n",
    "- 비교 comparison\n",
    "- 정렬 sort\n",
    "- 인덱싱 indexing"
   ]
  },
  {
   "cell_type": "markdown",
   "id": "e6137da6-6823-4ede-a8c2-6cf12888295c",
   "metadata": {},
   "source": [
    "#### 문제{99}"
   ]
  },
  {
   "cell_type": "code",
   "execution_count": 296,
   "id": "d13f5b81-5cf0-4654-ab4a-0659e1aadcac",
   "metadata": {},
   "outputs": [
    {
     "data": {
      "text/plain": [
       "array([ 2, 12, 22, 32, 42, 52])"
      ]
     },
     "execution_count": 296,
     "metadata": {},
     "output_type": "execute_result"
    }
   ],
   "source": [
    "# 문제 {99}\n",
    "\n",
    "a = np.arange(6).reshape(1,-1)\n",
    "b = np.arange(10,16).reshape(1,-1)\n",
    "c = np.arange(20,26).reshape(1,-1)\n",
    "d = np.arange(30,36).reshape(1,-1)\n",
    "e = np.arange(40,46).reshape(1,-1)\n",
    "f = np.arange(50,56).reshape(1,-1)\n",
    "a=np.vstack((a,b,c,d,e,f)) \n",
    "a[:,2]"
   ]
  },
  {
   "cell_type": "code",
   "execution_count": 295,
   "id": "c6715d96-2eca-4b11-ba2a-5e837a71d0e4",
   "metadata": {},
   "outputs": [
    {
     "data": {
      "text/plain": [
       "array([ 2, 12, 22, 32, 42, 52])"
      ]
     },
     "execution_count": 295,
     "metadata": {},
     "output_type": "execute_result"
    }
   ],
   "source": [
    "# 문제 {99}\n",
    "\n",
    "a = np.arange(6)\n",
    "array = a.copy()\n",
    "for i in range(5):\n",
    "    i+=1\n",
    "    array = np.vstack((array, a+10*i))\n",
    "a=array \n",
    "a[:,2]"
   ]
  },
  {
   "cell_type": "markdown",
   "id": "68b9b357-9a3b-4571-86eb-70e9dfc1cd6b",
   "metadata": {},
   "source": [
    "### 팬시 인덱싱 fancy indexing{109}\n",
    ":정수배열을 indexer로 사용해서 indexing하는 방법.\n",
    "\n",
    "- position\n",
    "- boolean\n",
    "- condition"
   ]
  },
  {
   "cell_type": "code",
   "execution_count": 199,
   "id": "c853d956-86df-4468-bf3f-5e4523cf9db1",
   "metadata": {},
   "outputs": [
    {
     "data": {
      "text/plain": [
       "array([ 0, 10, 20, 30, 40, 50, 60, 70])"
      ]
     },
     "execution_count": 199,
     "metadata": {},
     "output_type": "execute_result"
    }
   ],
   "source": [
    "a=np.arange(8)*10\n",
    "a"
   ]
  },
  {
   "cell_type": "code",
   "execution_count": 200,
   "id": "4db6f356-d346-41b3-82a2-141e2c259aa4",
   "metadata": {},
   "outputs": [
    {
     "data": {
      "text/plain": [
       "array([10, 20, 50])"
      ]
     },
     "execution_count": 200,
     "metadata": {},
     "output_type": "execute_result"
    }
   ],
   "source": [
    "a[[1,2,-3]]"
   ]
  },
  {
   "cell_type": "code",
   "execution_count": 224,
   "id": "377ca371-9b81-4980-b70b-cc1ca850a252",
   "metadata": {},
   "outputs": [
    {
     "name": "stderr",
     "output_type": "stream",
     "text": [
      "C:\\Users\\admin\\AppData\\Local\\Temp\\ipykernel_1392\\3806105379.py:2: VisibleDeprecationWarning: Creating an ndarray from ragged nested sequences (which is a list-or-tuple of lists-or-tuples-or ndarrays with different lengths or shapes) is deprecated. If you meant to do this, you must specify 'dtype=object' when creating the ndarray.\n",
      "  a[indices]\n"
     ]
    },
    {
     "ename": "IndexError",
     "evalue": "only integers, slices (`:`), ellipsis (`...`), numpy.newaxis (`None`) and integer or boolean arrays are valid indices",
     "output_type": "error",
     "traceback": [
      "\u001b[1;31m---------------------------------------------------------------------------\u001b[0m",
      "\u001b[1;31mIndexError\u001b[0m                                Traceback (most recent call last)",
      "Input \u001b[1;32mIn [224]\u001b[0m, in \u001b[0;36m<cell line: 2>\u001b[1;34m()\u001b[0m\n\u001b[0;32m      1\u001b[0m indices \u001b[38;5;241m=\u001b[39m[a,\u001b[38;5;241m2\u001b[39m,\u001b[38;5;241m-\u001b[39m\u001b[38;5;241m3\u001b[39m]\n\u001b[1;32m----> 2\u001b[0m \u001b[43ma\u001b[49m\u001b[43m[\u001b[49m\u001b[43mindices\u001b[49m\u001b[43m]\u001b[49m\n",
      "\u001b[1;31mIndexError\u001b[0m: only integers, slices (`:`), ellipsis (`...`), numpy.newaxis (`None`) and integer or boolean arrays are valid indices"
     ]
    }
   ],
   "source": [
    "indices =[a,2,-3]\n",
    "a[indices]"
   ]
  },
  {
   "cell_type": "code",
   "execution_count": 217,
   "id": "007dcbb1-5367-41bc-9b0c-e56cd79b07c7",
   "metadata": {},
   "outputs": [
    {
     "ename": "IndexError",
     "evalue": "boolean index did not match indexed array along dimension 0; dimension is 5 but corresponding boolean dimension is 9",
     "output_type": "error",
     "traceback": [
      "\u001b[1;31m---------------------------------------------------------------------------\u001b[0m",
      "\u001b[1;31mIndexError\u001b[0m                                Traceback (most recent call last)",
      "Input \u001b[1;32mIn [217]\u001b[0m, in \u001b[0;36m<cell line: 2>\u001b[1;34m()\u001b[0m\n\u001b[0;32m      1\u001b[0m mask\u001b[38;5;241m=\u001b[39m[\u001b[38;5;28;01mFalse\u001b[39;00m,\u001b[38;5;28;01mTrue\u001b[39;00m,\u001b[38;5;28;01mTrue\u001b[39;00m,\u001b[38;5;28;01mFalse\u001b[39;00m,\u001b[38;5;28;01mFalse\u001b[39;00m,\u001b[38;5;28;01mFalse\u001b[39;00m,\u001b[38;5;28;01mTrue\u001b[39;00m,\u001b[38;5;28;01mFalse\u001b[39;00m,\u001b[38;5;28;01mFalse\u001b[39;00m,]\n\u001b[1;32m----> 2\u001b[0m \u001b[43ma\u001b[49m\u001b[43m[\u001b[49m\u001b[43mmask\u001b[49m\u001b[43m]\u001b[49m\n",
      "\u001b[1;31mIndexError\u001b[0m: boolean index did not match indexed array along dimension 0; dimension is 5 but corresponding boolean dimension is 9"
     ]
    }
   ],
   "source": [
    "mask=[False,True,True,False,False,False,True,False,False,]\n",
    "a[mask]"
   ]
  },
  {
   "cell_type": "code",
   "execution_count": 223,
   "id": "01f500da-82ad-4461-8f75-8f2f2f313dfd",
   "metadata": {},
   "outputs": [
    {
     "ename": "TypeError",
     "evalue": "cannot unpack non-iterable type object",
     "output_type": "error",
     "traceback": [
      "\u001b[1;31m---------------------------------------------------------------------------\u001b[0m",
      "\u001b[1;31mTypeError\u001b[0m                                 Traceback (most recent call last)",
      "Input \u001b[1;32mIn [223]\u001b[0m, in \u001b[0;36m<cell line: 1>\u001b[1;34m()\u001b[0m\n\u001b[1;32m----> 1\u001b[0m mask \u001b[38;5;241m=\u001b[39m np\u001b[38;5;241m.\u001b[39marray[\u001b[38;5;241m0\u001b[39m,\u001b[38;5;241m1\u001b[39m,\u001b[38;5;241m1\u001b[39m,\u001b[38;5;241m0\u001b[39m,\u001b[38;5;241m0\u001b[39m,\u001b[38;5;241m1\u001b[39m,\u001b[38;5;241m0\u001b[39m,\u001b[38;5;241m0\u001b[39m], dtype\u001b[38;5;241m=\u001b[39m\u001b[38;5;28mbool\u001b[39m\n\u001b[0;32m      2\u001b[0m a[mask]\n",
      "\u001b[1;31mTypeError\u001b[0m: cannot unpack non-iterable type object"
     ]
    }
   ],
   "source": [
    "mask = np.array[0,1,1,0,0,1,0,0], dtype=bool\n",
    "a[mask]"
   ]
  },
  {
   "cell_type": "code",
   "execution_count": 205,
   "id": "6465a734-b7bc-4dfb-86ae-31630b8b8579",
   "metadata": {},
   "outputs": [
    {
     "data": {
      "text/plain": [
       "array([ 1,  7, 13, 19])"
      ]
     },
     "execution_count": 205,
     "metadata": {},
     "output_type": "execute_result"
    }
   ],
   "source": [
    "a = np.arange(25).reshape(5, 5)\n",
    "a[[0, 1, 2, 3], [1, 2, 3, 4]] "
   ]
  },
  {
   "cell_type": "code",
   "execution_count": 215,
   "id": "01bacb77-fd69-4a89-87b7-b17061790a43",
   "metadata": {},
   "outputs": [
    {
     "ename": "TypeError",
     "evalue": "'numpy.ndarray' object is not callable",
     "output_type": "error",
     "traceback": [
      "\u001b[1;31m---------------------------------------------------------------------------\u001b[0m",
      "\u001b[1;31mTypeError\u001b[0m                                 Traceback (most recent call last)",
      "Input \u001b[1;32mIn [215]\u001b[0m, in \u001b[0;36m<cell line: 1>\u001b[1;34m()\u001b[0m\n\u001b[1;32m----> 1\u001b[0m \u001b[43marray\u001b[49m\u001b[43m(\u001b[49m\u001b[43m[\u001b[49m\u001b[38;5;241;43m225\u001b[39;49m\u001b[43m,\u001b[49m\u001b[43m  \u001b[49m\u001b[38;5;241;43m81\u001b[39;49m\u001b[43m,\u001b[49m\u001b[43m   \u001b[49m\u001b[38;5;241;43m9\u001b[39;49m\u001b[43m,\u001b[49m\u001b[43m  \u001b[49m\u001b[38;5;241;43m64\u001b[39;49m\u001b[43m,\u001b[49m\u001b[43m \u001b[49m\u001b[38;5;241;43m196\u001b[39;49m\u001b[43m]\u001b[49m\u001b[43m)\u001b[49m\n\u001b[0;32m      3\u001b[0m array([\u001b[38;5;241m81.\u001b[39m, \u001b[38;5;241m76.\u001b[39m, \u001b[38;5;241m73.\u001b[39m, \u001b[38;5;241m72.\u001b[39m, \u001b[38;5;241m73.\u001b[39m, \u001b[38;5;241m76.\u001b[39m])\n\u001b[0;32m      5\u001b[0m (array([\u001b[38;5;241m2\u001b[39m, \u001b[38;5;241m2\u001b[39m, \u001b[38;5;241m2\u001b[39m, \u001b[38;5;241m2\u001b[39m, \u001b[38;5;241m2\u001b[39m, \u001b[38;5;241m2\u001b[39m, \u001b[38;5;241m3\u001b[39m], dtype\u001b[38;5;241m=\u001b[39mint64),\n\u001b[0;32m      6\u001b[0m  array([\u001b[38;5;241m0\u001b[39m, \u001b[38;5;241m1\u001b[39m, \u001b[38;5;241m2\u001b[39m, \u001b[38;5;241m3\u001b[39m, \u001b[38;5;241m4\u001b[39m, \u001b[38;5;241m5\u001b[39m, \u001b[38;5;241m0\u001b[39m], dtype\u001b[38;5;241m=\u001b[39mint64))\n",
      "\u001b[1;31mTypeError\u001b[0m: 'numpy.ndarray' object is not callable"
     ]
    }
   ],
   "source": [
    "array([225,  81,   9,  64, 196])\n",
    "\n",
    "array([81., 76., 73., 72., 73., 76.])\n",
    "\n",
    "(array([2, 2, 2, 2, 2, 2, 3], dtype=int64),\n",
    " array([0, 1, 2, 3, 4, 5, 0], dtype=int64)) "
   ]
  },
  {
   "cell_type": "code",
   "execution_count": 214,
   "id": "dd464cda-7727-473c-b0aa-27246b18feac",
   "metadata": {},
   "outputs": [
    {
     "ename": "TypeError",
     "evalue": "'numpy.ndarray' object is not callable",
     "output_type": "error",
     "traceback": [
      "\u001b[1;31m---------------------------------------------------------------------------\u001b[0m",
      "\u001b[1;31mTypeError\u001b[0m                                 Traceback (most recent call last)",
      "Input \u001b[1;32mIn [214]\u001b[0m, in \u001b[0;36m<cell line: 1>\u001b[1;34m()\u001b[0m\n\u001b[1;32m----> 1\u001b[0m \u001b[43marray\u001b[49m\u001b[43m(\u001b[49m\u001b[43m[\u001b[49m\u001b[38;5;241;43m225\u001b[39;49m\u001b[43m,\u001b[49m\u001b[43m  \u001b[49m\u001b[38;5;241;43m81\u001b[39;49m\u001b[43m,\u001b[49m\u001b[43m   \u001b[49m\u001b[38;5;241;43m9\u001b[39;49m\u001b[43m,\u001b[49m\u001b[43m  \u001b[49m\u001b[38;5;241;43m64\u001b[39;49m\u001b[43m,\u001b[49m\u001b[43m \u001b[49m\u001b[38;5;241;43m196\u001b[39;49m\u001b[43m]\u001b[49m\u001b[43m)\u001b[49m\n\u001b[0;32m      2\u001b[0m array([\u001b[38;5;241m81.\u001b[39m, \u001b[38;5;241m76.\u001b[39m, \u001b[38;5;241m73.\u001b[39m, \u001b[38;5;241m72.\u001b[39m, \u001b[38;5;241m73.\u001b[39m, \u001b[38;5;241m76.\u001b[39m])\n\u001b[0;32m      3\u001b[0m array([\u001b[38;5;241m9\u001b[39m, \u001b[38;5;241m4\u001b[39m, \u001b[38;5;241m1\u001b[39m, \u001b[38;5;241m0\u001b[39m, \u001b[38;5;241m1\u001b[39m, \u001b[38;5;241m4\u001b[39m, \u001b[38;5;241m9\u001b[39m])\n",
      "\u001b[1;31mTypeError\u001b[0m: 'numpy.ndarray' object is not callable"
     ]
    }
   ],
   "source": [
    "array([225,  81,   9,  64, 196])\n",
    "array([81., 76., 73., 72., 73., 76.])\n",
    "array([9, 4, 1, 0, 1, 4, 9]) "
   ]
  },
  {
   "cell_type": "code",
   "execution_count": 208,
   "id": "0ec22dc4-092c-4537-ab97-75dda8499fde",
   "metadata": {},
   "outputs": [],
   "source": [
    "import numpy as np"
   ]
  },
  {
   "cell_type": "markdown",
   "id": "b5ad9c89-d99e-44a9-a277-d2d1c0828ac5",
   "metadata": {},
   "source": [
    "### where {129}"
   ]
  },
  {
   "cell_type": "code",
   "execution_count": 213,
   "id": "9b791cb5-8cf4-4eab-b29e-485f6fe9b73d",
   "metadata": {},
   "outputs": [
    {
     "data": {
      "text/plain": [
       "array([0, 1, 2, 3, 4, 5, 6, 7, 8, 9])"
      ]
     },
     "execution_count": 213,
     "metadata": {},
     "output_type": "execute_result"
    }
   ],
   "source": [
    "a[np.where(a<10)]"
   ]
  },
  {
   "cell_type": "code",
   "execution_count": 212,
   "id": "a1a638a2-ae66-47e2-9282-16c5c04f6482",
   "metadata": {},
   "outputs": [
    {
     "data": {
      "text/plain": [
       "array([[0, 0, 0, 0, 0],\n",
       "       [0, 0, 0, 0, 0],\n",
       "       [1, 1, 1, 1, 1],\n",
       "       [1, 1, 1, 1, 1],\n",
       "       [1, 1, 1, 1, 1]])"
      ]
     },
     "execution_count": 212,
     "metadata": {},
     "output_type": "execute_result"
    }
   ],
   "source": [
    "#10보다 작은거 모두 0, 크거나 같으것 1로 바꾸자.\n",
    "np.where(a < 10, 0, 1)"
   ]
  },
  {
   "cell_type": "markdown",
   "id": "dac5eded-aeeb-4a21-a424-dfb034e7437d",
   "metadata": {},
   "source": [
    "#### 문제{104}"
   ]
  },
  {
   "cell_type": "code",
   "execution_count": 318,
   "id": "255f8f6b-1f38-4dd0-bbb7-a6fb468ef05a",
   "metadata": {},
   "outputs": [
    {
     "data": {
      "text/plain": [
       "array([[ 0,  1,  2,  3,  4,  5],\n",
       "       [10, 11, 12, 13, 14, 15],\n",
       "       [20, 21, 22, 23, 24, 25],\n",
       "       [30, 31, 32, 33, 34, 35],\n",
       "       [40, 41, 42, 43, 44, 45],\n",
       "       [50, 51, 52, 53, 54, 55]])"
      ]
     },
     "execution_count": 318,
     "metadata": {},
     "output_type": "execute_result"
    }
   ],
   "source": [
    "a = np.arange(6)\n",
    "array = a.copy()\n",
    "for i in range(5):\n",
    "    i+=1\n",
    "    array = np.vstack((array, a+10*i))\n",
    "a=array \n",
    "a"
   ]
  },
  {
   "cell_type": "code",
   "execution_count": 319,
   "id": "098348e8-0f88-43d0-bb48-f7c413ad0d0d",
   "metadata": {},
   "outputs": [
    {
     "data": {
      "text/plain": [
       "array([ 2, 12, 22, 32, 42, 52])"
      ]
     },
     "execution_count": 319,
     "metadata": {},
     "output_type": "execute_result"
    }
   ],
   "source": [
    "#빨간색만 출력\n",
    "a[:,2]"
   ]
  },
  {
   "cell_type": "code",
   "execution_count": 321,
   "id": "8fe7320f-2956-49a7-aed9-942fea52468c",
   "metadata": {},
   "outputs": [
    {
     "data": {
      "text/plain": [
       "array([3, 4])"
      ]
     },
     "execution_count": 321,
     "metadata": {},
     "output_type": "execute_result"
    }
   ],
   "source": [
    "#노란색출력\n",
    "a[0,3:5]"
   ]
  },
  {
   "cell_type": "code",
   "execution_count": 322,
   "id": "9627497d-af2b-4f6d-9c7b-c99ef114d0bf",
   "metadata": {},
   "outputs": [
    {
     "data": {
      "text/plain": [
       "array([[44, 45],\n",
       "       [54, 55]])"
      ]
     },
     "execution_count": 322,
     "metadata": {},
     "output_type": "execute_result"
    }
   ],
   "source": [
    "#파란색출력\n",
    "a[4:,4:]"
   ]
  },
  {
   "cell_type": "code",
   "execution_count": 323,
   "id": "60da98ba-b661-4d2b-bd44-1bff1ffa691c",
   "metadata": {},
   "outputs": [
    {
     "data": {
      "text/plain": [
       "array([[20, 22, 24],\n",
       "       [40, 42, 44]])"
      ]
     },
     "execution_count": 323,
     "metadata": {},
     "output_type": "execute_result"
    }
   ],
   "source": [
    "#파란칸 출력\n",
    "a[2::2,::2]"
   ]
  },
  {
   "cell_type": "markdown",
   "id": "623974e0-028e-4d7f-b022-249ae55e57d2",
   "metadata": {},
   "source": [
    "#### 문제 {108}"
   ]
  },
  {
   "cell_type": "code",
   "execution_count": 304,
   "id": "2d6d2249-7bf7-455c-9861-e945db9e17e9",
   "metadata": {},
   "outputs": [
    {
     "data": {
      "text/plain": [
       "array([[ 0,  1,  2,  3,  4],\n",
       "       [ 5,  6,  7,  8,  9],\n",
       "       [10, 11, 12, 13, 14],\n",
       "       [15, 16, 17, 18, 19],\n",
       "       [20, 21, 22, 23, 24]])"
      ]
     },
     "execution_count": 304,
     "metadata": {},
     "output_type": "execute_result"
    }
   ],
   "source": [
    "a = np.arange(25).reshape(5,5)\n",
    "a"
   ]
  },
  {
   "cell_type": "code",
   "execution_count": 311,
   "id": "39cee734-137a-4be2-a226-867ca2357cce",
   "metadata": {},
   "outputs": [
    {
     "data": {
      "text/plain": [
       "array([[20, 21, 22, 23, 24]])"
      ]
     },
     "execution_count": 311,
     "metadata": {},
     "output_type": "execute_result"
    }
   ],
   "source": [
    "#노란색 출력\n",
    "\n",
    "a[4:,:]"
   ]
  },
  {
   "cell_type": "code",
   "execution_count": 312,
   "id": "651710a3-6cb0-4f34-8c93-58b722eb795e",
   "metadata": {},
   "outputs": [
    {
     "data": {
      "text/plain": [
       "array([[ 1,  3],\n",
       "       [ 6,  8],\n",
       "       [11, 13],\n",
       "       [16, 18],\n",
       "       [21, 23]])"
      ]
     },
     "execution_count": 312,
     "metadata": {},
     "output_type": "execute_result"
    }
   ],
   "source": [
    "#빨간색 출력\n",
    "a[:,1::2]"
   ]
  },
  {
   "cell_type": "code",
   "execution_count": 316,
   "id": "bec49fe5-0e98-483a-9f6e-e15f10d67919",
   "metadata": {},
   "outputs": [
    {
     "data": {
      "text/plain": [
       "array([[ 5,  7],\n",
       "       [15, 17]])"
      ]
     },
     "execution_count": 316,
     "metadata": {},
     "output_type": "execute_result"
    }
   ],
   "source": [
    "#파란색 출력\n",
    "\n",
    "a[1::2,:3:2]"
   ]
  },
  {
   "cell_type": "code",
   "execution_count": null,
   "id": "29fee1ab-8fb1-437b-b1eb-505f235f5002",
   "metadata": {},
   "outputs": [],
   "source": []
  }
 ],
 "metadata": {
  "kernelspec": {
   "display_name": "Python 3 (ipykernel)",
   "language": "python",
   "name": "python3"
  },
  "language_info": {
   "codemirror_mode": {
    "name": "ipython",
    "version": 3
   },
   "file_extension": ".py",
   "mimetype": "text/x-python",
   "name": "python",
   "nbconvert_exporter": "python",
   "pygments_lexer": "ipython3",
   "version": "3.10.6"
  },
  "toc-showtags": true
 },
 "nbformat": 4,
 "nbformat_minor": 5
}
