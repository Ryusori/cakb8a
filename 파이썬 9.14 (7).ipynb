{
 "cells": [
  {
   "cell_type": "markdown",
   "id": "58318573-5667-45b1-8d4f-3192526153ec",
   "metadata": {},
   "source": [
    "## 탭을 4개의 공백으로 바꾸기"
   ]
  },
  {
   "cell_type": "code",
   "execution_count": 106,
   "id": "5931abbc-7255-4e6c-abfc-107ef730abbd",
   "metadata": {},
   "outputs": [
    {
     "name": "stdout",
     "output_type": "stream",
     "text": [
      "-f\n",
      "C:\\Users\\admin\\AppData\\Roaming\\jupyter\\runtime\\kernel-d3e34d3a-cb7f-4ed5-80f1-b6cc71f13fa4.json\n"
     ]
    }
   ],
   "source": [
    "import sys\n",
    "src = sys. argv[1]\n",
    "dst = sys.argv [2]\n",
    "\n",
    "print(src)\n",
    "print(dst)"
   ]
  },
  {
   "cell_type": "code",
   "execution_count": 104,
   "id": "895a978e-fb9d-4e9b-8177-8f2d6df7cd24",
   "metadata": {},
   "outputs": [
    {
     "data": {
      "text/plain": [
       "['C:\\\\Users\\\\admin\\\\AppData\\\\Local\\\\Programs\\\\Python\\\\Python310\\\\lib\\\\site-packages\\\\ipykernel_launcher.py',\n",
       " '-f',\n",
       " 'C:\\\\Users\\\\admin\\\\AppData\\\\Roaming\\\\jupyter\\\\runtime\\\\kernel-d3e34d3a-cb7f-4ed5-80f1-b6cc71f13fa4.json']"
      ]
     },
     "execution_count": 104,
     "metadata": {},
     "output_type": "execute_result"
    }
   ],
   "source": [
    "sys.argv"
   ]
  },
  {
   "cell_type": "code",
   "execution_count": 105,
   "id": "e87589ce-1501-4841-aac6-cfca101b51a5",
   "metadata": {},
   "outputs": [
    {
     "ename": "FileNotFoundError",
     "evalue": "[Errno 2] No such file or directory: '-f'",
     "output_type": "error",
     "traceback": [
      "\u001b[1;31m---------------------------------------------------------------------------\u001b[0m",
      "\u001b[1;31mFileNotFoundError\u001b[0m                         Traceback (most recent call last)",
      "Input \u001b[1;32mIn [105]\u001b[0m, in \u001b[0;36m<cell line: 5>\u001b[1;34m()\u001b[0m\n\u001b[0;32m      2\u001b[0m src \u001b[38;5;241m=\u001b[39m sys\u001b[38;5;241m.\u001b[39m argv[\u001b[38;5;241m1\u001b[39m]\n\u001b[0;32m      3\u001b[0m dst \u001b[38;5;241m=\u001b[39m sys\u001b[38;5;241m.\u001b[39margv [\u001b[38;5;241m2\u001b[39m]\n\u001b[1;32m----> 5\u001b[0m f\u001b[38;5;241m=\u001b[39m \u001b[38;5;28;43mopen\u001b[39;49m\u001b[43m(\u001b[49m\u001b[43msrc\u001b[49m\u001b[43m)\u001b[49m\n\u001b[0;32m      6\u001b[0m tab_content \u001b[38;5;241m=\u001b[39m f\u001b[38;5;241m.\u001b[39mread()\n\u001b[0;32m      7\u001b[0m f\u001b[38;5;241m.\u001b[39mclose()\n",
      "\u001b[1;31mFileNotFoundError\u001b[0m: [Errno 2] No such file or directory: '-f'"
     ]
    }
   ],
   "source": [
    "import sys\n",
    "src = sys. argv[1]\n",
    "dst = sys.argv [2]\n",
    "\n",
    "f= open(src)\n",
    "tab_content = f.read()\n",
    "f.close()\n",
    "space_content = tab_content.replace(\"\\t\",\"\"*4)\n",
    "\n",
    "f=open(dst, \"w\")\n",
    "f.write(space_content)\n",
    "f.close()"
   ]
  },
  {
   "cell_type": "markdown",
   "id": "14137560-6d8a-4c3d-a793-99c9fa41d9e2",
   "metadata": {},
   "source": [
    "## 하위 디렉터리 검색"
   ]
  },
  {
   "cell_type": "code",
   "execution_count": 1,
   "id": "f00632ff-a569-48d1-9675-d63db954dad0",
   "metadata": {},
   "outputs": [
    {
     "data": {
      "text/plain": [
       "['.idlerc',\n",
       " '.ipynb_checkpoints',\n",
       " '.ipython',\n",
       " '.jupyter',\n",
       " '3D Objects',\n",
       " 'aaa.bxt.txt',\n",
       " 'AppData',\n",
       " 'Application Data',\n",
       " 'Contacts',\n",
       " 'Cookies',\n",
       " 'Documents',\n",
       " 'Downloads',\n",
       " 'Favorites',\n",
       " 'IntelGraphicsProfiles',\n",
       " 'Links',\n",
       " 'Local Settings',\n",
       " 'mod1.py',\n",
       " 'mod2.py',\n",
       " 'Music',\n",
       " 'My Documents',\n",
       " 'NetHood',\n",
       " 'NTUSER.DAT',\n",
       " 'ntuser.dat.LOG1',\n",
       " 'ntuser.dat.LOG2',\n",
       " 'NTUSER.DAT{1c2b59c6-c5f5-11eb-bacb-000d3a96488e}.TM.blf',\n",
       " 'NTUSER.DAT{1c2b59c6-c5f5-11eb-bacb-000d3a96488e}.TMContainer00000000000000000001.regtrans-ms',\n",
       " 'NTUSER.DAT{1c2b59c6-c5f5-11eb-bacb-000d3a96488e}.TMContainer00000000000000000002.regtrans-ms',\n",
       " 'ntuser.ini',\n",
       " 'OneDrive',\n",
       " 'PrintHood',\n",
       " 'Recent',\n",
       " 'Saved Games',\n",
       " 'Searches',\n",
       " 'SendTo',\n",
       " 'tabto4.py.txt',\n",
       " 'Templates',\n",
       " 'text.py',\n",
       " 'Untitled.ipynb',\n",
       " 'Untitled1.ipynb',\n",
       " 'Videos',\n",
       " '__pycache__',\n",
       " '시작 메뉴',\n",
       " '파이썬 입문']"
      ]
     },
     "execution_count": 1,
     "metadata": {},
     "output_type": "execute_result"
    }
   ],
   "source": [
    "import os\n",
    "os.listdir()"
   ]
  },
  {
   "cell_type": "code",
   "execution_count": 1,
   "id": "62ac2a0c-5d77-495f-87d6-5dfbec26eaf4",
   "metadata": {},
   "outputs": [
    {
     "data": {
      "text/plain": [
       "['.idlerc',\n",
       " '.ipynb_checkpoints',\n",
       " '.ipython',\n",
       " '.jupyter',\n",
       " '3D Objects',\n",
       " 'aaa.bxt.txt',\n",
       " 'AppData',\n",
       " 'Application Data',\n",
       " 'Contacts',\n",
       " 'Cookies',\n",
       " 'Documents',\n",
       " 'Downloads',\n",
       " 'Favorites',\n",
       " 'IntelGraphicsProfiles',\n",
       " 'Links',\n",
       " 'Local Settings',\n",
       " 'mod1.py',\n",
       " 'mod2.py',\n",
       " 'Music',\n",
       " 'My Documents',\n",
       " 'NetHood',\n",
       " 'NTUSER.DAT',\n",
       " 'ntuser.dat.LOG1',\n",
       " 'ntuser.dat.LOG2',\n",
       " 'NTUSER.DAT{1c2b59c6-c5f5-11eb-bacb-000d3a96488e}.TM.blf',\n",
       " 'NTUSER.DAT{1c2b59c6-c5f5-11eb-bacb-000d3a96488e}.TMContainer00000000000000000001.regtrans-ms',\n",
       " 'NTUSER.DAT{1c2b59c6-c5f5-11eb-bacb-000d3a96488e}.TMContainer00000000000000000002.regtrans-ms',\n",
       " 'ntuser.ini',\n",
       " 'OneDrive',\n",
       " 'PrintHood',\n",
       " 'Recent',\n",
       " 'Saved Games',\n",
       " 'Searches',\n",
       " 'SendTo',\n",
       " 'tabto4.py.txt',\n",
       " 'Templates',\n",
       " 'text.py',\n",
       " 'Untitled.ipynb',\n",
       " 'Untitled1.ipynb',\n",
       " 'Videos',\n",
       " '__pycache__',\n",
       " '시작 메뉴',\n",
       " '파이썬 입문']"
      ]
     },
     "execution_count": 1,
     "metadata": {},
     "output_type": "execute_result"
    }
   ],
   "source": [
    "import os\n",
    "os.listdir()"
   ]
  },
  {
   "cell_type": "code",
   "execution_count": 2,
   "id": "d923860d-919a-4e78-a83a-91138e114f39",
   "metadata": {},
   "outputs": [],
   "source": [
    "dirname = \"Downloads\"\n",
    "filenames = os.listdir(dirname)"
   ]
  },
  {
   "cell_type": "code",
   "execution_count": 13,
   "id": "aa12d6a6-de5d-480b-8df9-3b8d18e14498",
   "metadata": {},
   "outputs": [],
   "source": [
    "import os\n",
    "\n",
    "def search(dirname):\n",
    "    try:\n",
    "        filename = os.listdir (dirname)\n",
    "        for filename in filenames:\n",
    "            full_filename = os.path.join(dirname, filename)\n",
    "            if os.path.isdir(full_filename):\n",
    "                search(full_filename)\n",
    "            else:\n",
    "                ext= full_filename[-3: ]\n",
    "                if ext == '.py':\n",
    "                    print(full_filename)\n",
    "\n",
    "    except PermissionError:\n",
    "        pass\n",
    "    \n",
    "                "
   ]
  },
  {
   "cell_type": "code",
   "execution_count": 15,
   "id": "a7d123d4-5d98-46f9-875a-fcd809702ae2",
   "metadata": {},
   "outputs": [
    {
     "name": "stdout",
     "output_type": "stream",
     "text": [
      "Downloads\\.opera\\파이썬_다섯번째.py\n",
      "Downloads\\파이썬_다섯번째.py\n"
     ]
    }
   ],
   "source": [
    "search(\"Downloads\")"
   ]
  },
  {
   "cell_type": "code",
   "execution_count": 14,
   "id": "37ff8a4c-4a84-49f3-bea7-6dd55230a1ce",
   "metadata": {},
   "outputs": [
    {
     "name": "stdout",
     "output_type": "stream",
     "text": [
      "C:/users/admin\\파이썬_다섯번째.py\n"
     ]
    }
   ],
   "source": [
    "search(\"C:/users/admin\")  "
   ]
  },
  {
   "cell_type": "markdown",
   "id": "fecdd902-3105-48d9-980a-dc671f5ea51a",
   "metadata": {},
   "source": [
    "## 정규표현식 "
   ]
  },
  {
   "cell_type": "code",
   "execution_count": null,
   "id": "d0e3710f-7ec6-4897-8d25-6b60c6e8f50f",
   "metadata": {},
   "outputs": [],
   "source": [
    "#메타문자 []\n",
    "\n",
    "[a,b,c]: a또는 b또는 c\n",
    "[a-z] : a부터 z까지\n",
    "[a-z A-Z] : 모든 문자\n",
    "[0-9] : 모든 숫자\n"
   ]
  },
  {
   "cell_type": "code",
   "execution_count": 17,
   "id": "174b06ae-90a6-44d1-ad6f-5a4233fba753",
   "metadata": {},
   "outputs": [],
   "source": [
    "#메타문자 ^\n",
    "[^ ]: not 의미, 대괄호 안에 있어야한다."
   ]
  },
  {
   "cell_type": "markdown",
   "id": "d07d063b-ea60-4cfe-a692-60fddfb02233",
   "metadata": {},
   "source": [
    "## 메타문자 반복"
   ]
  },
  {
   "cell_type": "code",
   "execution_count": 2,
   "id": "6bf5cc2a-5c2e-4f89-b664-42bc7af8b780",
   "metadata": {},
   "outputs": [],
   "source": [
    "sentence = \"blue socks and red shoes\""
   ]
  },
  {
   "cell_type": "code",
   "execution_count": 4,
   "id": "55e161ca-3f66-48a7-b1eb-107d42e161c3",
   "metadata": {},
   "outputs": [],
   "source": [
    "import re"
   ]
  },
  {
   "cell_type": "code",
   "execution_count": 5,
   "id": "36423d8f-f342-43e3-8872-f627dbad1dc1",
   "metadata": {},
   "outputs": [
    {
     "data": {
      "text/plain": [
       "'AAA socks and red shoes'"
      ]
     },
     "execution_count": 5,
     "metadata": {},
     "output_type": "execute_result"
    }
   ],
   "source": [
    "# 정규표현식 re.sub을 이용한 문자열 치환하기\n",
    "re.sub( \"blue\",\"AAA\" , sentence)"
   ]
  },
  {
   "cell_type": "markdown",
   "id": "94ddcc5d-5ddd-4c0a-84da-5f0b785ad419",
   "metadata": {},
   "source": [
    "#### 문제 (치환하기)"
   ]
  },
  {
   "cell_type": "code",
   "execution_count": 89,
   "id": "8f69ed16-60d3-4344-946b-806983719751",
   "metadata": {},
   "outputs": [
    {
     "data": {
      "text/plain": [
       "'AAA socks and AAA shoes'"
      ]
     },
     "execution_count": 89,
     "metadata": {},
     "output_type": "execute_result"
    }
   ],
   "source": [
    "# base\n",
    "result = re.sub( \"blue\",\"AAA\" , sentence)\n",
    "result = re.sub( \"red\",\"AAA\" , result)\n",
    "result"
   ]
  },
  {
   "cell_type": "code",
   "execution_count": 8,
   "id": "c620cf29-d9f3-47f2-ac43-a547d60a9149",
   "metadata": {},
   "outputs": [
    {
     "data": {
      "text/plain": [
       "'AAA socks and AAA shoes'"
      ]
     },
     "execution_count": 8,
     "metadata": {},
     "output_type": "execute_result"
    }
   ],
   "source": [
    "# \"blue|red\" : blue 또는 red\n",
    "re.sub( \"blue|red\",\"AAA\" , sentence)"
   ]
  },
  {
   "cell_type": "code",
   "execution_count": 9,
   "id": "5595dd8e-fcc4-431d-9a2c-8466737f8bdd",
   "metadata": {},
   "outputs": [
    {
     "data": {
      "text/plain": [
       "'AAA socks and red shoes'"
      ]
     },
     "execution_count": 9,
     "metadata": {},
     "output_type": "execute_result"
    }
   ],
   "source": [
    "#\"b.{3}\" : b 다음으로 모든문자 아무거나 3개 오면,\n",
    "re.sub( \"b.{3}\" ,\"AAA\" , sentence)"
   ]
  },
  {
   "cell_type": "markdown",
   "id": "008e5ff5-f189-4470-adc3-87dc60479f2d",
   "metadata": {},
   "source": [
    "#### 문제 (A 바꾸기)"
   ]
  },
  {
   "cell_type": "code",
   "execution_count": 94,
   "id": "a85cb2da-5fbb-4d36-b1ff-8a8668f45b73",
   "metadata": {},
   "outputs": [
    {
     "name": "stdout",
     "output_type": "stream",
     "text": [
      "\n",
      "1\n",
      "12\n",
      "123\n",
      "1234\n",
      "abc\n",
      "1a\n"
     ]
    }
   ],
   "source": [
    "# base 문제\n",
    "\n",
    "li = [\"\", \"1\",\"12\",\"123\",\"1234\",\"abc\",\"1a\"]\n",
    "for string in li:\n",
    "    print(string)"
   ]
  },
  {
   "cell_type": "code",
   "execution_count": 90,
   "id": "eca1ad0c-f7bc-4d9d-9338-aeeb7561679e",
   "metadata": {},
   "outputs": [
    {
     "name": "stdout",
     "output_type": "stream",
     "text": [
      "\n",
      "A\n",
      "AA\n",
      "AAA\n",
      "AAAA\n",
      "abc\n",
      "Aa\n"
     ]
    }
   ],
   "source": [
    "#(r\"[0-9]{1}\") : [0-9]중에 {1}번 반복되면 출력해라.\n",
    "# r의 의미 파이썬에서만 사용한다. p307 \n",
    "\n",
    "li = [\"\", \"1\",\"12\",\"123\",\"1234\",\"abc\",\"1a\"]\n",
    "for string in li:\n",
    "    print(re.sub(r\"[0-9]{1}\", \"A\",string))"
   ]
  },
  {
   "cell_type": "code",
   "execution_count": 91,
   "id": "b4718619-57d3-4bdc-b7c8-a52e283eca63",
   "metadata": {},
   "outputs": [
    {
     "name": "stdout",
     "output_type": "stream",
     "text": [
      "\n",
      "A\n",
      "A\n",
      "A\n",
      "A\n",
      "abc\n",
      "Aa\n"
     ]
    }
   ],
   "source": [
    "# [0-9]+ :'+'는 숫자를 전체 하나로 묶어 본다. 1개 이상!!\n",
    "\n",
    "li = [\"\", \"1\",\"12\",\"123\",\"1234\",\"abc\",\"1a\"]\n",
    "for string in li:\n",
    "    print(re.sub(r\"[0-9]+\", \"A\",string))"
   ]
  },
  {
   "cell_type": "code",
   "execution_count": 19,
   "id": "12f8bfdf-eccd-41b5-8082-d213e70a619c",
   "metadata": {},
   "outputs": [
    {
     "name": "stdout",
     "output_type": "stream",
     "text": [
      "A\n",
      "AA\n",
      "AAA\n",
      "AAAA\n",
      "AAAAA\n",
      "AaAbAcA\n",
      "AAaA\n"
     ]
    }
   ],
   "source": [
    "# r\"[0-9]?\" : '?'는 없어도 출력됨. 0번 출력됨.\n",
    "li = [\"\", \"1\",\"12\",\"123\",\"1234\",\"abc\",\"1a\"]\n",
    "for string in li:\n",
    "    print(re.sub(r\"[0-9]?\", \"A\",string))"
   ]
  },
  {
   "cell_type": "code",
   "execution_count": 25,
   "id": "c97086fd-0902-4375-a8ee-52a2b0e82b9d",
   "metadata": {},
   "outputs": [
    {
     "name": "stdout",
     "output_type": "stream",
     "text": [
      ", A, A, A, A, abc, Aa, "
     ]
    }
   ],
   "source": [
    "# 1개 이상의 숫자를 1개로.\n",
    "\n",
    "li = [\"\", \"1\",\"12\",\"123\",\"1234\",\"abc\",\"1a\"]\n",
    "for string in li:\n",
    "    print(re.sub(\"[0-9]+\", \"A\",string),end= \", \" )"
   ]
  },
  {
   "cell_type": "code",
   "execution_count": 26,
   "id": "bb45ed9e-ee16-4e24-979e-5cabf4ef2926",
   "metadata": {},
   "outputs": [
    {
     "name": "stdout",
     "output_type": "stream",
     "text": [
      "A, AA, AAA, AAAA, AAAAA, AaAbAcA, AAaA, "
     ]
    }
   ],
   "source": [
    "# 1번 이하부터의 숫자를 1개씩.\n",
    "li = [\"\", \"1\",\"12\",\"123\",\"1234\",\"abc\",\"1a\"]\n",
    "for string in li:\n",
    "    print(re.sub(\"[0-9]?\", \"A\",string),end= \", \" )"
   ]
  },
  {
   "cell_type": "code",
   "execution_count": 28,
   "id": "8e39c90c-f69f-4cd5-8b42-3da99a27cf54",
   "metadata": {},
   "outputs": [
    {
     "name": "stdout",
     "output_type": "stream",
     "text": [
      "A, AA, AA, AA, AA, AaAbAcA, AAaA, "
     ]
    }
   ],
   "source": [
    "# 0번 이상의 숫자를 A개로.\n",
    "\n",
    "li = [\"\", \"1\",\"12\",\"123\",\"1234\",\"abc\",\"1a\"]\n",
    "for string in li:\n",
    "    print(re.sub(\"[0-9]*\", \"A\",string),end= \", \" )"
   ]
  },
  {
   "cell_type": "code",
   "execution_count": 30,
   "id": "d0cb4068-133f-4ec4-b856-e9a720314159",
   "metadata": {},
   "outputs": [
    {
     "name": "stdout",
     "output_type": "stream",
     "text": [
      ", 1, 12, 123, A, abc, 1a, "
     ]
    }
   ],
   "source": [
    "# 4번 숫자만 A개로.\n",
    "\n",
    "li = [\"\", \"1\",\"12\",\"123\",\"1234\",\"abc\",\"1a\"]\n",
    "for string in li:\n",
    "    print(re.sub(\"[0-9]{4}\", \"A\",string),end= \", \" )"
   ]
  },
  {
   "cell_type": "code",
   "execution_count": 31,
   "id": "4d81fbcc-6b65-4f6c-8abe-dae4f2c677c1",
   "metadata": {},
   "outputs": [
    {
     "name": "stdout",
     "output_type": "stream",
     "text": [
      ", 1, 12, 123, 1234, AAA, 1A, "
     ]
    }
   ],
   "source": [
    "# 문자만 A개로. \n",
    "\n",
    "li = [\"\", \"1\",\"12\",\"123\",\"1234\",\"abc\",\"1a\"]\n",
    "for string in li:\n",
    "    print(re.sub(\"[^0-9]\", \"A\",string),end= \", \" )"
   ]
  },
  {
   "cell_type": "code",
   "execution_count": 32,
   "id": "4667535a-d48b-4c13-a95b-94fb4f275612",
   "metadata": {},
   "outputs": [
    {
     "name": "stdout",
     "output_type": "stream",
     "text": [
      ", A, A2, A23, A234, abc, Aa, "
     ]
    }
   ],
   "source": [
    "# 시작이 숫자면 A로 바꾸어라.\n",
    "# \"^[0-9]\" : 가로 밖에 나와있으면 시작 부분 의미.\n",
    "\n",
    "li = [\"\", \"1\",\"12\",\"123\",\"1234\",\"abc\",\"1a\"]\n",
    "for string in li:\n",
    "    print(re.sub(\"^[0-9]\", \"A\",string),end= \", \" )"
   ]
  },
  {
   "cell_type": "code",
   "execution_count": 33,
   "id": "db655655-380f-4ba1-a200-2145a7b93d80",
   "metadata": {},
   "outputs": [
    {
     "name": "stdout",
     "output_type": "stream",
     "text": [
      ", A, 1A, 12A, 123A, abc, 1a, "
     ]
    }
   ],
   "source": [
    "# 끝나는게 숫자면 A로 바꾸어라.\n",
    "#\"[0-9]$\" : 끝나는 부분 의미.\n",
    "\n",
    "li = [\"\", \"1\",\"12\",\"123\",\"1234\",\"abc\",\"1a\"]\n",
    "for string in li:\n",
    "    print(re.sub(\"[0-9]$\", \"A\",string),end= \", \" )"
   ]
  },
  {
   "cell_type": "markdown",
   "id": "487d719b-e00e-4ded-a66d-1ddf75013aab",
   "metadata": {},
   "source": [
    "#### 문제 (사이 2문자) "
   ]
  },
  {
   "cell_type": "code",
   "execution_count": null,
   "id": "0ceeb428-0633-43b5-b9f3-68826a4fb321",
   "metadata": {},
   "outputs": [
    {
     "name": "stdout",
     "output_type": "stream",
     "text": [
      "#,  #,  aBo,  a123o,  kbs,  123kbs,  KBS,  KB3,  abcKBS123,  "
     ]
    }
   ],
   "source": [
    "# a로 시작하고 o로 끝나는 사이에 2개의 문자가 있는 경우\n",
    "# a..o ,[a]..[o], a.{2}o, ^a.{2}o$\n",
    "\n",
    "#(1)\n",
    "li = [\"a12o\", \"abco\", \"aBo\", \"a123o\",'kbs','123kbs','KBS','KB3','abcKBS123']\n",
    "for string in li:\n",
    "    print(re.sub(\"a..o\", \"#\", string), end = \",  \") "
   ]
  },
  {
   "cell_type": "code",
   "execution_count": 44,
   "id": "def2cd91-ebc1-4134-8c08-0c74a7fe2b08",
   "metadata": {},
   "outputs": [
    {
     "name": "stdout",
     "output_type": "stream",
     "text": [
      "#,  #,  aBo,  a123o,  kbs,  123kbs,  KBS,  KB3,  abcKBS123,  "
     ]
    }
   ],
   "source": [
    "# a로 시작하고 o로 끝나는 사이에 2개의 문자가 있는 경우\n",
    "\n",
    "#(2)\n",
    "li = [\"a12o\", \"abco\", \"aBo\", \"a123o\",'kbs','123kbs','KBS','KB3','abcKBS123']\n",
    "for string in li:\n",
    "    print(re.sub(\"^a.{2}o$\", \"#\", string), end = \",  \") "
   ]
  },
  {
   "cell_type": "markdown",
   "id": "551e25d0-aa9a-4951-b926-98306ce36357",
   "metadata": {},
   "source": [
    "#### 문제 (대문자, 숫자) "
   ]
  },
  {
   "cell_type": "code",
   "execution_count": 48,
   "id": "f733b9bf-8e8c-46be-9bf9-ae469e84caf6",
   "metadata": {},
   "outputs": [
    {
     "name": "stdout",
     "output_type": "stream",
     "text": [
      "a12o,  abco,  aBo,  a123o,  kbs,  123kbs,  KBS,  #,  abcKBS123,  "
     ]
    }
   ],
   "source": [
    "# 알파벳 대문자로 시작하고 숫자로 끝나는 경우\n",
    "\n",
    "#(내가한거)\n",
    "li = [\"a12o\", \"abco\", \"aBo\", \"a123o\",'kbs','123kbs','KBS','KB3','abcKBS123']\n",
    "for string in li:\n",
    "    print(re.sub(\"^[A-Z].[0-9]$\", \"#\", string), end = \",  \") "
   ]
  },
  {
   "cell_type": "code",
   "execution_count": 49,
   "id": "335d54fa-53db-403b-9b4a-f618e287c24a",
   "metadata": {},
   "outputs": [
    {
     "name": "stdout",
     "output_type": "stream",
     "text": [
      "a12o,  abco,  aBo,  a123o,  kbs,  123kbs,  KBS,  #,  abcKBS123,  "
     ]
    }
   ],
   "source": [
    "# 알파벳 대문자로 시작하고 숫자로 끝나는 경우\n",
    "# \\S : 뭔가로 차있는거 (문자 아닌 모든것)\n",
    "\n",
    "#(2) \n",
    "li = [\"a12o\", \"abco\", \"aBo\", \"a123o\",'kbs','123kbs','KBS','KB3','abcKBS123']\n",
    "for string in li:\n",
    "    print(re.sub(\"^[A-Z]\\S[0-9]$\", \"#\", string), end = \",  \") "
   ]
  },
  {
   "cell_type": "code",
   "execution_count": 51,
   "id": "10525568-43cc-4932-bb91-98c21fd05ca2",
   "metadata": {},
   "outputs": [
    {
     "name": "stdout",
     "output_type": "stream",
     "text": [
      "a12o,  abco,  aBo,  a123o,  kbs,  123kbs,  KBS,  #,  abcKBS123,  "
     ]
    }
   ],
   "source": [
    "# 알파벳 대문자로 시작하고 숫자로 끝나는 경우\n",
    "# .+: . 외 무언가\n",
    "\n",
    "#(정답) \n",
    "li = [\"a12o\", \"abco\", \"aBo\", \"a123o\",'kbs','123kbs','KBS','KB3','abcKBS123']\n",
    "for string in li:\n",
    "    print(re.sub(\"^[A-Z].+[0-9]$\", \"#\", string), end = \",  \") "
   ]
  },
  {
   "cell_type": "markdown",
   "id": "deba4d3f-bfb2-4234-9f89-6961fca027ab",
   "metadata": {},
   "source": [
    "#### 문제 (123찾기)"
   ]
  },
  {
   "cell_type": "code",
   "execution_count": 56,
   "id": "01cb319f-504b-436d-a710-6a9269a652ed",
   "metadata": {},
   "outputs": [
    {
     "name": "stdout",
     "output_type": "stream",
     "text": [
      "a12o,  abco,  aBo,  a#o,  kbs,  #kbs,  KBS,  KB3,  abcKBS#,  "
     ]
    }
   ],
   "source": [
    "# 123을 찾아서 바꾸기 \n",
    "\n",
    "#(1)\n",
    "li = [\"a12o\", \"abco\", \"aBo\", \"a123o\",'kbs','123kbs','KBS','KB3','abcKBS123']\n",
    "for string in li:\n",
    "    print(re.sub(\"123+\", \"#\", string), end = \",  \") "
   ]
  },
  {
   "cell_type": "code",
   "execution_count": 95,
   "id": "da9d2fba-becc-4ac4-9ed4-ca41833b9772",
   "metadata": {},
   "outputs": [
    {
     "name": "stdout",
     "output_type": "stream",
     "text": [
      "a12o,  abco,  aBo,  a#o,  kbs,  #kbs,  KBS,  KB3,  abcKBS#,  "
     ]
    }
   ],
   "source": [
    "# 123을 찾아서 바꾸기 \n",
    "\n",
    "#(2)\n",
    "li = [\"a12o\", \"abco\", \"aBo\", \"a123o\",'kbs','123kbs','KBS','KB3','abcKBS123']\n",
    "for string in li:\n",
    "    print(re.sub(\"(123)+\", \"#\", string), end = \",  \") "
   ]
  },
  {
   "cell_type": "code",
   "execution_count": 96,
   "id": "25bef48f-00e2-4248-990e-927790f7adfa",
   "metadata": {},
   "outputs": [
    {
     "name": "stdout",
     "output_type": "stream",
     "text": [
      "a12o,  abco,  aBo,  a#o,  kbs,  #kbs,  KBS,  KB3,  abcKBS#,  "
     ]
    }
   ],
   "source": [
    "# 123을 찾아서 바꾸기 \n",
    "\n",
    "#(3)\n",
    "li = [\"a12o\", \"abco\", \"aBo\", \"a123o\",'kbs','123kbs','KBS','KB3','abcKBS123']\n",
    "for string in li:\n",
    "    print(re.sub(\"123\", \"#\", string), end = \",  \") "
   ]
  },
  {
   "cell_type": "markdown",
   "id": "a5d0eb3f-5b5b-437f-9c7c-3cbdbf15b3fe",
   "metadata": {},
   "source": [
    "#### 문제 (중간 123 바꾸기) "
   ]
  },
  {
   "cell_type": "code",
   "execution_count": 98,
   "id": "fc19ea3b-46db-4eb8-b779-e054ada5a932",
   "metadata": {},
   "outputs": [
    {
     "name": "stdout",
     "output_type": "stream",
     "text": [
      "a12o,  abco,  aBo,  #,  kbs,  123kbs,  KBS,  KB3,  abcKBS123,  "
     ]
    }
   ],
   "source": [
    "# 문자들 중간에 123을 찾아서 바꾸기\n",
    "\n",
    "#(1)\n",
    "li = [\"a12o\", \"abco\", \"aBo\", \"a123o\",'kbs','123kbs','KBS','KB3','abcKBS123']\n",
    "for string in li:\n",
    "    print(re.sub(\"\\D+(123)\\D+\", \"#\", string), end = \",  \") "
   ]
  },
  {
   "cell_type": "code",
   "execution_count": 99,
   "id": "41a4710f-7af8-472d-b368-dbbf94814cb3",
   "metadata": {},
   "outputs": [
    {
     "name": "stdout",
     "output_type": "stream",
     "text": [
      "a12o,  abco,  aBo,  #,  kbs,  123kbs,  KBS,  KB3,  abcKBS123,  "
     ]
    }
   ],
   "source": [
    "# 문자들 중간에 123을 찾아서 바꾸기\n",
    "\n",
    "#(2)\n",
    "li = [\"a12o\", \"abco\", \"aBo\", \"a123o\",'kbs','123kbs','KBS','KB3','abcKBS123']\n",
    "for string in li:\n",
    "    print(re.sub(\"\\S+123\\S+\", \"#\", string), end = \",  \") "
   ]
  },
  {
   "cell_type": "code",
   "execution_count": 100,
   "id": "0863845f-8d69-4b4a-a565-54570652bd2b",
   "metadata": {},
   "outputs": [
    {
     "name": "stdout",
     "output_type": "stream",
     "text": [
      "a12o,  abco,  aBo,  #,  kbs,  123kbs,  KBS,  KB3,  abcKBS123,  "
     ]
    }
   ],
   "source": [
    "# 문자들 중간에 123을 찾아서 바꾸기\n",
    "\n",
    "#(3)\n",
    "li = [\"a12o\", \"abco\", \"aBo\", \"a123o\",'kbs','123kbs','KBS','KB3','abcKBS123']\n",
    "for string in li:\n",
    "    print(re.sub(\".+123.+\", \"#\", string), end = \",  \") "
   ]
  },
  {
   "cell_type": "markdown",
   "id": "f3fcad46-450d-4cd0-9b69-d0cfd67d15ae",
   "metadata": {},
   "source": [
    "#### 문제 (주민번호 *로 바꾸기)"
   ]
  },
  {
   "cell_type": "code",
   "execution_count": 79,
   "id": "3b9b055b-eda1-4fab-9ac8-b70d5e88f21a",
   "metadata": {},
   "outputs": [
    {
     "name": "stdout",
     "output_type": "stream",
     "text": [
      "park 800905-******* Kim 700905-*******\n"
     ]
    }
   ],
   "source": [
    "#내가한거\n",
    "\n",
    "string = \"park 800905-1049118 Kim 700905-1059119\" \n",
    "print(re.sub( \"-\\S+\", \"-*******\", string)) "
   ]
  },
  {
   "cell_type": "code",
   "execution_count": 103,
   "id": "9d8a48fc-8a7a-4891-ac64-de2d7e499c2d",
   "metadata": {},
   "outputs": [
    {
     "name": "stdout",
     "output_type": "stream",
     "text": [
      "park 800905******* Kim 700905*******\n"
     ]
    }
   ],
   "source": [
    "\n",
    "string = \"park 800905-1049118 Kim 700905-1059119\" \n",
    "print(re.sub(r\"[-]\\S+\", \"*******\", string)) "
   ]
  },
  {
   "cell_type": "code",
   "execution_count": 88,
   "id": "73045480-0529-48b0-93ba-0fa0e039dbad",
   "metadata": {},
   "outputs": [
    {
     "name": "stdout",
     "output_type": "stream",
     "text": [
      "park 800905-******* Kim 700905-*******\n"
     ]
    }
   ],
   "source": [
    "#(1)\n",
    "string = \"park 800905-1049118 Kim 700905-1059119\" \n",
    "print(re.sub( \"\\d{7}\", \"*******\", string)) "
   ]
  },
  {
   "cell_type": "code",
   "execution_count": 102,
   "id": "143d1aca-bd9b-44c2-bc69-4d4fef5cc99f",
   "metadata": {},
   "outputs": [
    {
     "name": "stdout",
     "output_type": "stream",
     "text": [
      "park 800905-******* Kim 700905-*******\n"
     ]
    }
   ],
   "source": [
    "#(2)\n",
    "string = \"park 800905-1049118 Kim 700905-1059119\" \n",
    "print(re.sub( \"-\\d{7}\", \"-*******\", string)) "
   ]
  },
  {
   "cell_type": "code",
   "execution_count": null,
   "id": "d66c46ee-06e5-46e6-8c6c-6b6b26833f64",
   "metadata": {},
   "outputs": [],
   "source": []
  }
 ],
 "metadata": {
  "kernelspec": {
   "display_name": "Python 3 (ipykernel)",
   "language": "python",
   "name": "python3"
  },
  "language_info": {
   "codemirror_mode": {
    "name": "ipython",
    "version": 3
   },
   "file_extension": ".py",
   "mimetype": "text/x-python",
   "name": "python",
   "nbconvert_exporter": "python",
   "pygments_lexer": "ipython3",
   "version": "3.10.6"
  },
  "toc-autonumbering": true,
  "toc-showcode": false,
  "toc-showmarkdowntxt": false,
  "toc-showtags": false
 },
 "nbformat": 4,
 "nbformat_minor": 5
}
